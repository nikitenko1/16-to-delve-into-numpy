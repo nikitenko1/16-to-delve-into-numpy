{
 "cells": [
  {
   "cell_type": "markdown",
   "id": "97a2393d",
   "metadata": {},
   "source": [
    "<p style=\"font-family:Verdana; font-size: 22px; color: cyan\"> Numpy Array Indexing</p>"
   ]
  },
  {
   "cell_type": "code",
   "execution_count": 1,
   "id": "5ffb5b73",
   "metadata": {},
   "outputs": [],
   "source": [
    "import numpy as np "
   ]
  },
  {
   "cell_type": "markdown",
   "id": "05b65254",
   "metadata": {},
   "source": [
    "<p style=\"font-family:Verdana; font-size: 22px; color: orange\"> 1. Accessing Elements in 1D Arrays</p>"
   ]
  },
  {
   "cell_type": "code",
   "execution_count": 3,
   "id": "3060f3c7",
   "metadata": {},
   "outputs": [
    {
     "name": "stdout",
     "output_type": "stream",
     "text": [
      "10\n"
     ]
    }
   ],
   "source": [
    "#  A 1D NumPy array is a sequence of values with positions called indices which starts at 0.\n",
    "arr = np.array([10, 20, 30, 40, 50])\n",
    "\n",
    "print(arr[0])"
   ]
  },
  {
   "cell_type": "markdown",
   "id": "b85f80b1",
   "metadata": {},
   "source": [
    "<p style=\"font-family:Verdana; font-size: 22px; color: orange\"> 2. Accessing Elements in Multidimensional Arrays</p>"
   ]
  },
  {
   "cell_type": "code",
   "execution_count": 4,
   "id": "0103a42d",
   "metadata": {},
   "outputs": [
    {
     "name": "stdout",
     "output_type": "stream",
     "text": [
      "6\n"
     ]
    }
   ],
   "source": [
    "matrix = np.array([[1, 2, 3], [4, 5, 6], [7, 8, 9]])\n",
    "\n",
    "print(matrix[1, 2])"
   ]
  },
  {
   "cell_type": "code",
   "execution_count": 5,
   "id": "1d9b34b1",
   "metadata": {},
   "outputs": [
    {
     "name": "stdout",
     "output_type": "stream",
     "text": [
      "16\n"
     ]
    }
   ],
   "source": [
    "cube = np.array([[[1, 2, 3],\n",
    "                  [4, 5, 6],\n",
    "                  [7, 8, 9]],\n",
    "                 \n",
    "                 [[10, 11, 12],\n",
    "                  [13, 14, 15],\n",
    "                  [16, 17, 18]]])\n",
    "\n",
    "print(cube[1, 2, 0])"
   ]
  },
  {
   "cell_type": "markdown",
   "id": "ab80b9b5",
   "metadata": {},
   "source": [
    "<p style=\"font-family:Verdana; font-size: 22px; color: orange\"> 3. Slicing Arrays</p>"
   ]
  },
  {
   "cell_type": "code",
   "execution_count": 6,
   "id": "6024e007",
   "metadata": {},
   "outputs": [
    {
     "name": "stdout",
     "output_type": "stream",
     "text": [
      "[1 2 3]\n"
     ]
    }
   ],
   "source": [
    "arr = np.array([0, 1, 2, 3, 4, 5])\n",
    "\n",
    "print(arr[1:4])"
   ]
  },
  {
   "cell_type": "code",
   "execution_count": 8,
   "id": "791e29c8",
   "metadata": {},
   "outputs": [
    {
     "name": "stdout",
     "output_type": "stream",
     "text": [
      "[[2 3]\n",
      " [5 6]]\n"
     ]
    }
   ],
   "source": [
    "matrix = np.array([[1, 2, 3], [4, 5, 6], [7, 8, 9]])\n",
    "# Slicing Multidimensional Arrays: In this slicing can be applied to each dimension separately\n",
    "print(matrix[0:2, 1:3])"
   ]
  },
  {
   "cell_type": "markdown",
   "id": "671b2891",
   "metadata": {},
   "source": [
    "<p style=\"font-family:Verdana; font-size: 22px; color: orange\"> 4. Boolean Indexing</p>"
   ]
  },
  {
   "cell_type": "code",
   "execution_count": 9,
   "id": "27638ab1",
   "metadata": {},
   "outputs": [
    {
     "name": "stdout",
     "output_type": "stream",
     "text": [
      "[25 30]\n"
     ]
    }
   ],
   "source": [
    "arr = np.array([10, 15, 20, 25, 30])\n",
    "\n",
    "print(arr[arr > 20])"
   ]
  },
  {
   "cell_type": "markdown",
   "id": "bb101600",
   "metadata": {},
   "source": [
    "<p style=\"font-family:Verdana; font-size: 22px; color: orange\"> 5. Fancy Indexing</p>"
   ]
  },
  {
   "cell_type": "code",
   "execution_count": 11,
   "id": "22aee33b",
   "metadata": {},
   "outputs": [
    {
     "name": "stdout",
     "output_type": "stream",
     "text": [
      "[10 30 50]\n"
     ]
    }
   ],
   "source": [
    "arr = np.array([10, 20, 30, 40, 50])\n",
    "# It is also known as Advanced Indexing which allows us access elements of an array \n",
    "# by using another array or list of indices. \n",
    "indices = [0, 2, 4]\n",
    "print(arr[indices])"
   ]
  },
  {
   "cell_type": "markdown",
   "id": "2e0f38fd",
   "metadata": {},
   "source": [
    "<p style=\"font-family:Verdana; font-size: 22px; color: orange\"> 6. Integer Array Indexing</p>"
   ]
  },
  {
   "cell_type": "code",
   "execution_count": 13,
   "id": "af7f3578",
   "metadata": {},
   "outputs": [
    {
     "name": "stdout",
     "output_type": "stream",
     "text": [
      "[1 3 5]\n"
     ]
    }
   ],
   "source": [
    "arr = np.array([1, 2, 3, 4, 5])\n",
    "# It is similar to fancy indexing and uses an array of integers to select multiple elements from another array. \n",
    "print(arr[[0, 2, 4]])"
   ]
  },
  {
   "cell_type": "markdown",
   "id": "46ff1e5d",
   "metadata": {},
   "source": [
    "<p style=\"font-family:Verdana; font-size: 22px; color: orange\"> 7. Ellipsis (...) in Indexing</p>"
   ]
  },
  {
   "cell_type": "code",
   "execution_count": 14,
   "id": "6af1607c",
   "metadata": {},
   "outputs": [
    {
     "name": "stdout",
     "output_type": "stream",
     "text": [
      "[[0.80813609 0.31215591 0.87430322 0.46975419]\n",
      " [0.92045271 0.3700782  0.84829624 0.9796303 ]\n",
      " [0.43564133 0.60558605 0.7233169  0.7231755 ]\n",
      " [0.64373363 0.30946383 0.80538392 0.30566866]]\n"
     ]
    }
   ],
   "source": [
    "# The ellipsis (...) can be used to select all dimensions which are not explicitly mentioned. \n",
    "cube = np.random.rand(4, 4, 4)\n",
    "\n",
    "print(cube[..., 0])"
   ]
  },
  {
   "cell_type": "markdown",
   "id": "0f14bc56",
   "metadata": {},
   "source": [
    "<p style=\"font-family:Verdana; font-size: 22px; color: orange\"> 8. Using np.newaxis to Add New Dimensions</p>"
   ]
  },
  {
   "cell_type": "code",
   "execution_count": 15,
   "id": "be7d03f4",
   "metadata": {},
   "outputs": [
    {
     "name": "stdout",
     "output_type": "stream",
     "text": [
      "[[1]\n",
      " [2]\n",
      " [3]]\n"
     ]
    }
   ],
   "source": [
    "# The np.newaxis keyword adds a new axis to the array which helps in converting a 1D array into a row or column vector.\n",
    "arr = np.array([1, 2, 3])\n",
    "\n",
    "print(arr[:, np.newaxis])"
   ]
  },
  {
   "cell_type": "markdown",
   "id": "b4285b2a",
   "metadata": {},
   "source": [
    "<p style=\"font-family:Verdana; font-size: 22px; color: orange\"> 9. Modifying Array Elements</p>"
   ]
  },
  {
   "cell_type": "code",
   "execution_count": 16,
   "id": "117e62b9",
   "metadata": {},
   "outputs": [
    {
     "name": "stdout",
     "output_type": "stream",
     "text": [
      "[ 1 99 99  4]\n"
     ]
    }
   ],
   "source": [
    "arr = np.array([1, 2, 3, 4])\n",
    "# We can modify array elements directly by using indexing or slicing.\n",
    "arr[1:3] = 99\n",
    "\n",
    "print(arr)"
   ]
  },
  {
   "cell_type": "code",
   "execution_count": null,
   "id": "e30beac4",
   "metadata": {},
   "outputs": [],
   "source": []
  }
 ],
 "metadata": {
  "kernelspec": {
   "display_name": "base",
   "language": "python",
   "name": "python3"
  },
  "language_info": {
   "codemirror_mode": {
    "name": "ipython",
    "version": 3
   },
   "file_extension": ".py",
   "mimetype": "text/x-python",
   "name": "python",
   "nbconvert_exporter": "python",
   "pygments_lexer": "ipython3",
   "version": "3.12.7"
  }
 },
 "nbformat": 4,
 "nbformat_minor": 5
}
