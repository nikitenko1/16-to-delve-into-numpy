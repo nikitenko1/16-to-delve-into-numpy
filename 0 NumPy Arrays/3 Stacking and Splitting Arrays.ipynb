{
 "cells": [
  {
   "cell_type": "markdown",
   "id": "97a2393d",
   "metadata": {},
   "source": [
    "<p style=\"font-family:Verdana; font-size: 22px; color: cyan\"> numpy.stack() in Python</p>"
   ]
  },
  {
   "cell_type": "code",
   "execution_count": 2,
   "id": "5ffb5b73",
   "metadata": {},
   "outputs": [],
   "source": [
    "import numpy as np "
   ]
  },
  {
   "cell_type": "markdown",
   "id": "05b65254",
   "metadata": {},
   "source": [
    "<p style=\"font-family:Verdana; font-size: 22px; color: orange\"> 1. Important points:</p>"
   ]
  },
  {
   "cell_type": "markdown",
   "id": "5cfab031",
   "metadata": {},
   "source": [
    "> stack() is used for joining multiple NumPy arrays. Unlike, concatenate(), it joins arrays along a new axis. It returns a NumPy array.\n",
    ">> to join 2 arrays, they must have the same shape and dimensions. (e.g. both (2,3)--> 2 rows,3 columns)\n",
    ">>> stack() creates a new array which has 1 more dimension than the input arrays. If we stack 2 1-D arrays, the resultant array will have 2 dimensions.\n"
   ]
  },
  {
   "cell_type": "markdown",
   "id": "b85f80b1",
   "metadata": {},
   "source": [
    "<p style=\"font-family:Verdana; font-size: 22px; color: orange\"> Example #1 : stacking two 1d arrays</p>"
   ]
  },
  {
   "cell_type": "code",
   "execution_count": 3,
   "id": "0103a42d",
   "metadata": {},
   "outputs": [
    {
     "name": "stdout",
     "output_type": "stream",
     "text": [
      "[[1 2 3]\n",
      " [4 5 6]]\n"
     ]
    }
   ],
   "source": [
    "# input array\n",
    "a = np.array([1, 2, 3])\n",
    "b = np.array([4, 5, 6])\n",
    "\n",
    "# Stacking 2 1-d arrays\n",
    "c = np.stack((a, b),axis=0)\n",
    "print(c)"
   ]
  },
  {
   "cell_type": "markdown",
   "id": "e30beac4",
   "metadata": {},
   "source": [
    "> Notice, output is a 2-D array. They are stacked row-wise. Now, let's change the axis to 1."
   ]
  },
  {
   "cell_type": "code",
   "execution_count": 5,
   "id": "d4193981",
   "metadata": {},
   "outputs": [
    {
     "data": {
      "text/plain": [
       "array([[1, 4],\n",
       "       [2, 5],\n",
       "       [3, 6]])"
      ]
     },
     "execution_count": 5,
     "metadata": {},
     "output_type": "execute_result"
    }
   ],
   "source": [
    "# stack 2 1-d arrays column-wise\n",
    "np.stack((a,b),axis=1)"
   ]
  },
  {
   "cell_type": "markdown",
   "id": "6635e8a9",
   "metadata": {},
   "source": [
    "<p style=\"font-family:Verdana; font-size: 22px; color: orange\"> Example #2 : stacking two 2d arrays</p>"
   ]
  },
  {
   "cell_type": "code",
   "execution_count": 7,
   "id": "a0bf05fd",
   "metadata": {},
   "outputs": [],
   "source": [
    "# input arrays\n",
    "x=np.array([[1,2,3],\n",
    "            [4,5,6]])\n",
    "\n",
    "y=np.array([[7,8,9],\n",
    "            [10,11,12]])"
   ]
  },
  {
   "cell_type": "code",
   "execution_count": 8,
   "id": "c42e9652",
   "metadata": {},
   "outputs": [
    {
     "data": {
      "text/plain": [
       "array([[[ 1,  2,  3],\n",
       "        [ 4,  5,  6]],\n",
       "\n",
       "       [[ 7,  8,  9],\n",
       "        [10, 11, 12]]])"
      ]
     },
     "execution_count": 8,
     "metadata": {},
     "output_type": "execute_result"
    }
   ],
   "source": [
    "# 1. stacking with axis=0\n",
    "np.stack((x,y),axis=0)"
   ]
  },
  {
   "cell_type": "code",
   "execution_count": 9,
   "id": "3e97b3d8",
   "metadata": {},
   "outputs": [
    {
     "data": {
      "text/plain": [
       "array([[[ 1,  2,  3],\n",
       "        [ 7,  8,  9]],\n",
       "\n",
       "       [[ 4,  5,  6],\n",
       "        [10, 11, 12]]])"
      ]
     },
     "execution_count": 9,
     "metadata": {},
     "output_type": "execute_result"
    }
   ],
   "source": [
    "# 2. stacking with axis=1\n",
    "np.stack((x,y),axis=1)"
   ]
  },
  {
   "cell_type": "code",
   "execution_count": 11,
   "id": "1609d8dd",
   "metadata": {},
   "outputs": [
    {
     "data": {
      "text/plain": [
       "array([[[ 1,  7],\n",
       "        [ 2,  8],\n",
       "        [ 3,  9]],\n",
       "\n",
       "       [[ 4, 10],\n",
       "        [ 5, 11],\n",
       "        [ 6, 12]]])"
      ]
     },
     "execution_count": 11,
     "metadata": {},
     "output_type": "execute_result"
    }
   ],
   "source": [
    "# 3. stacking with axis =2\n",
    "np.stack((x,y),axis=2)"
   ]
  },
  {
   "cell_type": "markdown",
   "id": "7506507a",
   "metadata": {},
   "source": [
    "<p style=\"font-family:Verdana; font-size: 22px; color: orange\"> Example #2 : stacking more than two 2d arrays</p>"
   ]
  },
  {
   "cell_type": "code",
   "execution_count": 13,
   "id": "5ec24285",
   "metadata": {},
   "outputs": [
    {
     "data": {
      "text/plain": [
       "array([[[ 1,  2,  3],\n",
       "        [ 4,  5,  6]],\n",
       "\n",
       "       [[ 7,  8,  9],\n",
       "        [10, 11, 12]],\n",
       "\n",
       "       [[13, 14, 15],\n",
       "        [16, 17, 18]]])"
      ]
     },
     "execution_count": 13,
     "metadata": {},
     "output_type": "execute_result"
    }
   ],
   "source": [
    "# 1. with axis=0 : Just stacking. \n",
    "x=np.array([[1,2,3],\n",
    "            [4,5,6]])\n",
    "y=np.array([[7,8,9],\n",
    "            [10,11,12]])\n",
    "z=np.array([[13,14,15],\n",
    "            [16,17,18]])\n",
    "\n",
    "np.stack((x,y,z),axis=0)\n"
   ]
  },
  {
   "cell_type": "code",
   "execution_count": 14,
   "id": "fc3bc735",
   "metadata": {},
   "outputs": [
    {
     "data": {
      "text/plain": [
       "array([[[ 1,  2,  3],\n",
       "        [ 7,  8,  9],\n",
       "        [13, 14, 15]],\n",
       "\n",
       "       [[ 4,  5,  6],\n",
       "        [10, 11, 12],\n",
       "        [16, 17, 18]]])"
      ]
     },
     "execution_count": 14,
     "metadata": {},
     "output_type": "execute_result"
    }
   ],
   "source": [
    "# 2. with axis =1 (row-wise stacking)\n",
    "np.stack((x,y,z),axis=1)"
   ]
  },
  {
   "cell_type": "code",
   "execution_count": 15,
   "id": "6bf136c3",
   "metadata": {},
   "outputs": [
    {
     "data": {
      "text/plain": [
       "array([[[ 1,  7, 13],\n",
       "        [ 2,  8, 14],\n",
       "        [ 3,  9, 15]],\n",
       "\n",
       "       [[ 4, 10, 16],\n",
       "        [ 5, 11, 17],\n",
       "        [ 6, 12, 18]]])"
      ]
     },
     "execution_count": 15,
     "metadata": {},
     "output_type": "execute_result"
    }
   ],
   "source": [
    "# 3. with axis =2 (column-wise stacking)\n",
    "np.stack((x,y,z),axis=2)"
   ]
  },
  {
   "cell_type": "markdown",
   "id": "bad5a669",
   "metadata": {},
   "source": [
    "<p style=\"font-family:Verdana; font-size: 22px; color: orange\"> Example #3 : stacking two 3d arrays</p>"
   ]
  },
  {
   "cell_type": "code",
   "execution_count": 16,
   "id": "0bd1c2e6",
   "metadata": {},
   "outputs": [
    {
     "data": {
      "text/plain": [
       "array([[[[  1,   2,   3],\n",
       "         [  4,   5,   6],\n",
       "         [  7,   8,   9]],\n",
       "\n",
       "        [[ 10,  11,  12],\n",
       "         [ 13,  14,  15],\n",
       "         [ 16,  17,  18]]],\n",
       "\n",
       "\n",
       "       [[[ 51,  52,  53],\n",
       "         [ 54,  55,  56],\n",
       "         [ 57,  58,  59]],\n",
       "\n",
       "        [[110, 111, 112],\n",
       "         [113, 114, 115],\n",
       "         [116, 117, 118]]]])"
      ]
     },
     "execution_count": 16,
     "metadata": {},
     "output_type": "execute_result"
    }
   ],
   "source": [
    "# 1. axis=0. Just stacking\n",
    "#2 input 3d arrays\n",
    "\n",
    "m=np.array([[[1,2,3],\n",
    "            [4,5,6],\n",
    "            [7,8,9]],\n",
    "\n",
    "            [[10,11,12],\n",
    "            [13,14,15],\n",
    "            [16,17,18]]])\n",
    "\n",
    "n=np.array([[[51,52,53],\n",
    "            [54,55,56],\n",
    "            [57,58,59]],\n",
    "\n",
    "            [[110,111,112],\n",
    "            [113,114,115],\n",
    "            [116,117,118]]])\n",
    "\n",
    "# stacking\n",
    "np.stack((m,n),axis=0)"
   ]
  },
  {
   "cell_type": "code",
   "execution_count": 17,
   "id": "6e27e479",
   "metadata": {},
   "outputs": [
    {
     "data": {
      "text/plain": [
       "array([[[[  1,   2,   3],\n",
       "         [  4,   5,   6],\n",
       "         [  7,   8,   9]],\n",
       "\n",
       "        [[ 51,  52,  53],\n",
       "         [ 54,  55,  56],\n",
       "         [ 57,  58,  59]]],\n",
       "\n",
       "\n",
       "       [[[ 10,  11,  12],\n",
       "         [ 13,  14,  15],\n",
       "         [ 16,  17,  18]],\n",
       "\n",
       "        [[110, 111, 112],\n",
       "         [113, 114, 115],\n",
       "         [116, 117, 118]]]])"
      ]
     },
     "execution_count": 17,
     "metadata": {},
     "output_type": "execute_result"
    }
   ],
   "source": [
    "# 2. with axis=1 \n",
    "np.stack((m,n),axis=1)"
   ]
  },
  {
   "cell_type": "code",
   "execution_count": 18,
   "id": "9de5464f",
   "metadata": {},
   "outputs": [
    {
     "data": {
      "text/plain": [
       "array([[[[  1,   2,   3],\n",
       "         [ 51,  52,  53]],\n",
       "\n",
       "        [[  4,   5,   6],\n",
       "         [ 54,  55,  56]],\n",
       "\n",
       "        [[  7,   8,   9],\n",
       "         [ 57,  58,  59]]],\n",
       "\n",
       "\n",
       "       [[[ 10,  11,  12],\n",
       "         [110, 111, 112]],\n",
       "\n",
       "        [[ 13,  14,  15],\n",
       "         [113, 114, 115]],\n",
       "\n",
       "        [[ 16,  17,  18],\n",
       "         [116, 117, 118]]]])"
      ]
     },
     "execution_count": 18,
     "metadata": {},
     "output_type": "execute_result"
    }
   ],
   "source": [
    "# 3. with axis = 2 \n",
    "np.stack((m,n),axis=2)"
   ]
  },
  {
   "cell_type": "code",
   "execution_count": 19,
   "id": "c404196e",
   "metadata": {},
   "outputs": [
    {
     "data": {
      "text/plain": [
       "array([[[[  1,  51],\n",
       "         [  2,  52],\n",
       "         [  3,  53]],\n",
       "\n",
       "        [[  4,  54],\n",
       "         [  5,  55],\n",
       "         [  6,  56]],\n",
       "\n",
       "        [[  7,  57],\n",
       "         [  8,  58],\n",
       "         [  9,  59]]],\n",
       "\n",
       "\n",
       "       [[[ 10, 110],\n",
       "         [ 11, 111],\n",
       "         [ 12, 112]],\n",
       "\n",
       "        [[ 13, 113],\n",
       "         [ 14, 114],\n",
       "         [ 15, 115]],\n",
       "\n",
       "        [[ 16, 116],\n",
       "         [ 17, 117],\n",
       "         [ 18, 118]]]])"
      ]
     },
     "execution_count": 19,
     "metadata": {},
     "output_type": "execute_result"
    }
   ],
   "source": [
    "# 4. with axis = 3\n",
    "np.stack((m,n),axis=3)\n"
   ]
  },
  {
   "cell_type": "code",
   "execution_count": null,
   "id": "bf2b2fd1",
   "metadata": {},
   "outputs": [],
   "source": []
  }
 ],
 "metadata": {
  "kernelspec": {
   "display_name": "base",
   "language": "python",
   "name": "python3"
  },
  "language_info": {
   "codemirror_mode": {
    "name": "ipython",
    "version": 3
   },
   "file_extension": ".py",
   "mimetype": "text/x-python",
   "name": "python",
   "nbconvert_exporter": "python",
   "pygments_lexer": "ipython3",
   "version": "3.12.7"
  }
 },
 "nbformat": 4,
 "nbformat_minor": 5
}
