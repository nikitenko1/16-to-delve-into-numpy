{
 "cells": [
  {
   "cell_type": "markdown",
   "id": "bb5cb6da",
   "metadata": {},
   "source": [
    "<p style=\"font-family:Verdana; font-size: 26px; color: orange\"> Different Ways to Create Numpy Arrays in Python</p>"
   ]
  },
  {
   "cell_type": "markdown",
   "id": "97a2393d",
   "metadata": {},
   "source": [
    "<p style=\"font-family:Verdana; font-size: 22px; color: orange\"> Create Numpy Arrays Using Lists or Tuples</p>"
   ]
  },
  {
   "cell_type": "code",
   "execution_count": 1,
   "id": "5ffb5b73",
   "metadata": {},
   "outputs": [
    {
     "name": "stdout",
     "output_type": "stream",
     "text": [
      "Simple NumPy Array: [1 2 3 4 5]\n"
     ]
    }
   ],
   "source": [
    "import numpy as np\n",
    "\n",
    "my_list = [1, 2, 3, 4, 5]\n",
    "numpy_array = np.array(my_list)\n",
    "print(\"Simple NumPy Array:\",numpy_array)"
   ]
  },
  {
   "cell_type": "markdown",
   "id": "05b65254",
   "metadata": {},
   "source": [
    "<p style=\"font-family:Verdana; font-size: 22px; color: orange\"> Initialize a Python NumPy Array Using Special Functions</p>"
   ]
  },
  {
   "cell_type": "markdown",
   "id": "f55174c6",
   "metadata": {},
   "source": [
    "> np.zeros(): Creates an array filled with zeros.\n",
    ">> np.ones(): Creates an array filled with ones.\n",
    ">>> np.full(): Creates an array filled with a specified value.\n",
    ">>>> np.arange(): Creates an array with values that are evenly spaced within a given range.\n",
    ">>>>> np.linspace(): Creates an array with values that are evenly spaced over a specified interval."
   ]
  },
  {
   "cell_type": "code",
   "execution_count": 2,
   "id": "3060f3c7",
   "metadata": {},
   "outputs": [
    {
     "name": "stdout",
     "output_type": "stream",
     "text": [
      "Zero Array: \n",
      " [[0. 0. 0.]\n",
      " [0. 0. 0.]]\n",
      "Ones Array: \n",
      " [[1. 1. 1.]\n",
      " [1. 1. 1.]\n",
      " [1. 1. 1.]]\n",
      "Constant Array: \n",
      " [[7 7]\n",
      " [7 7]]\n",
      "Range Array: \n",
      " [0 2 4 6 8]\n",
      "Linspace Array: \n",
      " [0.   0.25 0.5  0.75 1.  ]\n"
     ]
    }
   ],
   "source": [
    "zeros_array = np.zeros((2, 3))\n",
    "ones_array = np.ones((3, 3))\n",
    "constant_array = np.full((2, 2), 7)\n",
    "range_array = np.arange(0, 10, 2)  # start, stop, step\n",
    "linspace_array = np.linspace(0, 1, 5)  # start, stop, num\n",
    "\n",
    "print(\"Zero Array:\",\"\\n\",zeros_array)\n",
    "print(\"Ones Array:\",\"\\n\",ones_array)\n",
    "print(\"Constant Array:\",\"\\n\",constant_array)\n",
    "print(\"Range Array:\",\"\\n\",range_array)\n",
    "print(\"Linspace Array:\",\"\\n\",linspace_array)"
   ]
  },
  {
   "cell_type": "markdown",
   "id": "d167a42f",
   "metadata": {},
   "source": [
    "<p style=\"font-family:Verdana; font-size: 22px; color: orange\"> Create Python Numpy Arrays Using Random Number Generation</p>\n"
   ]
  },
  {
   "cell_type": "markdown",
   "id": "392a36b4",
   "metadata": {},
   "source": [
    "> np.random.rand(): Creates an array of specified shape and fills it with random values sampled from a uniform distribution over [0, 1).\n",
    ">> np.random.randn(): Creates an array of specified shape and fills it with random values sampled from a standard normal distribution.\n",
    ">>> np.random.randint(): Creates an array of specified shape and fills it with random integers within a given range."
   ]
  },
  {
   "cell_type": "code",
   "execution_count": 8,
   "id": "82be4bbf",
   "metadata": {},
   "outputs": [
    {
     "name": "stdout",
     "output_type": "stream",
     "text": [
      "[[0.49802156 0.58888652 0.41367246]\n",
      " [0.21109832 0.03959567 0.72854438]] \n",
      "\n",
      "\n",
      " [[-0.23802678  1.85919735]\n",
      " [ 0.87824248 -0.461166  ]] \n",
      "\n",
      "\n",
      " [[12 14 14]\n",
      " [ 1 16  3]]\n"
     ]
    }
   ],
   "source": [
    "random_array = np.random.rand(2, 3)\n",
    "normal_array = np.random.randn(2, 2)\n",
    "randint_array = np.random.randint(0, 20, size=(2, 3)) \n",
    "\n",
    "print(random_array, \"\\n\\n\\n\", normal_array, \"\\n\\n\\n\", randint_array) \n",
    "# print(before, \"\\n\\n\\n\", after)"
   ]
  },
  {
   "cell_type": "markdown",
   "id": "37d2c9ed",
   "metadata": {},
   "source": [
    "<p style=\"font-family:Verdana; font-size: 22px; color: orange\"> Create Python Numpy Arrays Using Matrix Creation Routines</p>\n"
   ]
  },
  {
   "cell_type": "markdown",
   "id": "019d9dca",
   "metadata": {},
   "source": [
    "> np.eye(): Creates an identity matrix of specified size.\n",
    ">> np.diag(): Constructs a diagonal array.\n",
    ">>> np.zeros_like(): Creates an array of zeros with the same shape and type as a given array.\n",
    ">>>> np.ones_like(): Creates an array of ones with the same shape and type as a given array."
   ]
  },
  {
   "cell_type": "code",
   "execution_count": 13,
   "id": "8c15a585",
   "metadata": {},
   "outputs": [
    {
     "name": "stdout",
     "output_type": "stream",
     "text": [
      "identity_matrix \n",
      " [[1. 0. 0.]\n",
      " [0. 1. 0.]\n",
      " [0. 0. 1.]] \n",
      "\n",
      "diagonal_array \n",
      " [[1 0 0]\n",
      " [0 2 0]\n",
      " [0 0 3]] \n",
      "\n",
      "zeros_like_array \n",
      " [[0 0 0]\n",
      " [0 0 0]\n",
      " [0 0 0]] \n",
      "\n",
      "ones_like_array \n",
      " [[1 1 1]\n",
      " [1 1 1]\n",
      " [1 1 1]]\n"
     ]
    }
   ],
   "source": [
    "identity_matrix = np.eye(3)\n",
    "diagonal_array = np.diag([1, 2, 3])\n",
    "zeros_like_array = np.zeros_like(diagonal_array)\n",
    "ones_like_array = np.ones_like(diagonal_array)\n",
    "\n",
    "print('identity_matrix', \"\\n\", identity_matrix, \"\\n\")\n",
    "print('diagonal_array', \"\\n\", diagonal_array, \"\\n\")\n",
    "print('zeros_like_array', \"\\n\", zeros_like_array, \"\\n\")\n",
    "print('ones_like_array', \"\\n\", ones_like_array)"
   ]
  },
  {
   "cell_type": "code",
   "execution_count": null,
   "id": "a12c5715",
   "metadata": {},
   "outputs": [],
   "source": []
  }
 ],
 "metadata": {
  "kernelspec": {
   "display_name": "base",
   "language": "python",
   "name": "python3"
  },
  "language_info": {
   "codemirror_mode": {
    "name": "ipython",
    "version": 3
   },
   "file_extension": ".py",
   "mimetype": "text/x-python",
   "name": "python",
   "nbconvert_exporter": "python",
   "pygments_lexer": "ipython3",
   "version": "3.12.7"
  }
 },
 "nbformat": 4,
 "nbformat_minor": 5
}
