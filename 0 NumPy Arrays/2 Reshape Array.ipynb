{
 "cells": [
  {
   "cell_type": "markdown",
   "id": "97a2393d",
   "metadata": {},
   "source": [
    "<p style=\"font-family:Verdana; font-size: 22px; color: cyan\"> Reshape NumPy Array</p>"
   ]
  },
  {
   "cell_type": "code",
   "execution_count": 1,
   "id": "5ffb5b73",
   "metadata": {},
   "outputs": [],
   "source": [
    "import numpy as np "
   ]
  },
  {
   "cell_type": "markdown",
   "id": "05b65254",
   "metadata": {},
   "source": [
    "<p style=\"font-family:Verdana; font-size: 22px; color: orange\"> Reshaping : 1-D to 2D </p>"
   ]
  },
  {
   "cell_type": "code",
   "execution_count": 2,
   "id": "3060f3c7",
   "metadata": {},
   "outputs": [
    {
     "name": "stdout",
     "output_type": "stream",
     "text": [
      "Array : [ 1  2  3  4  5  6  7  8  9 10 11 12 13 14 15 16]\n",
      "First Reshaped Array : \n",
      "[[ 1  2  3  4]\n",
      " [ 5  6  7  8]\n",
      " [ 9 10 11 12]\n",
      " [13 14 15 16]]\n",
      "Second Reshaped Array : \n",
      "[[ 1  2  3  4  5  6  7  8]\n",
      " [ 9 10 11 12 13 14 15 16]]\n"
     ]
    }
   ],
   "source": [
    "\n",
    "# creating a numpy array\n",
    "array = np.array([1, 2, 3, 4, 5, 6, 7, 8, 9, 10, 11, 12, 13, 14, 15, 16])\n",
    "\n",
    "# printing array\n",
    "print(\"Array : \" + str(array))\n",
    "\n",
    "# length of array\n",
    "n = array.size\n",
    "\n",
    "# N-D array N dimension\n",
    "N = 4\n",
    "\n",
    "# calculating M\n",
    "M = n//N\n",
    "\n",
    "# reshaping numpy array\n",
    "# converting it to 2-D from 1-D array\n",
    "reshaped1 = array.reshape((N, M))\n",
    "\n",
    "# printing reshaped array\n",
    "print(\"First Reshaped Array : \")\n",
    "print(reshaped1)\n",
    "\n",
    "# creating another reshaped array\n",
    "reshaped2 = np.reshape(array, (2, 8))\n",
    "\n",
    "# printing reshaped array\n",
    "print(\"Second Reshaped Array : \")\n",
    "print(reshaped2)"
   ]
  },
  {
   "cell_type": "markdown",
   "id": "b85f80b1",
   "metadata": {},
   "source": [
    "<p style=\"font-family:Verdana; font-size: 22px; color: orange\"> Reshaping : 1-D to 3-D </p>"
   ]
  },
  {
   "cell_type": "code",
   "execution_count": 3,
   "id": "0103a42d",
   "metadata": {},
   "outputs": [
    {
     "name": "stdout",
     "output_type": "stream",
     "text": [
      "Array : [ 1  2  3  4  5  6  7  8  9 10 11 12 13 14 15 16]\n",
      "Reshaped 3-D Array : \n",
      "[[[ 1  2  3  4]\n",
      "  [ 5  6  7  8]]\n",
      "\n",
      " [[ 9 10 11 12]\n",
      "  [13 14 15 16]]]\n"
     ]
    }
   ],
   "source": [
    "# creating a numpy array\n",
    "array = np.array([1, 2, 3, 4, 5, 6, 7, 8, 9, 10, 11, 12, 13, 14, 15, 16])\n",
    "\n",
    "# printing array\n",
    "print(\"Array : \" + str(array))\n",
    "\n",
    "\n",
    "# reshaping numpy array\n",
    "# converting it to 3-D from 1-D array\n",
    "reshaped = array.reshape((2, 2, 4))\n",
    "\n",
    "# printing reshaped array\n",
    "print(\"Reshaped 3-D Array : \")\n",
    "print(reshaped)"
   ]
  },
  {
   "cell_type": "code",
   "execution_count": 5,
   "id": "1d9b34b1",
   "metadata": {},
   "outputs": [
    {
     "name": "stdout",
     "output_type": "stream",
     "text": [
      "16\n"
     ]
    }
   ],
   "source": [
    "cube = np.array([[[1, 2, 3],\n",
    "                  [4, 5, 6],\n",
    "                  [7, 8, 9]],\n",
    "                 \n",
    "                 [[10, 11, 12],\n",
    "                  [13, 14, 15],\n",
    "                  [16, 17, 18]]])\n",
    "\n",
    "print(cube[1, 2, 0])"
   ]
  },
  {
   "cell_type": "markdown",
   "id": "ab80b9b5",
   "metadata": {},
   "source": [
    "<p style=\"font-family:Verdana; font-size: 22px; color: orange\"> Reshaping N-D to 1-D array </p>"
   ]
  },
  {
   "cell_type": "code",
   "execution_count": 4,
   "id": "6024e007",
   "metadata": {},
   "outputs": [
    {
     "name": "stdout",
     "output_type": "stream",
     "text": [
      " 2-D Array : \n",
      "[[1 2 3]\n",
      " [4 5 6]\n",
      " [7 8 9]]\n",
      "Reshaped 1-D Array : \n",
      "[1 2 3 4 5 6 7 8 9]\n"
     ]
    }
   ],
   "source": [
    "# creating a numpy array\n",
    "array = np.array([[1, 2, 3],\n",
    "                 [4, 5, 6],\n",
    "                 [7, 8, 9]])\n",
    "\n",
    "# printing array\n",
    "print(\" 2-D Array : \")\n",
    "print(array)\n",
    "\n",
    "\n",
    "# reshaping numpy array\n",
    "# converting it to 1-D from 2-D array\n",
    "reshaped = array.reshape((9))\n",
    "\n",
    "# or we can use unknown dimension\n",
    "# reshaped = array.reshape((-1))\n",
    "\n",
    "# printing reshaped array\n",
    "print(\"Reshaped 1-D Array : \")\n",
    "print(reshaped)"
   ]
  },
  {
   "cell_type": "markdown",
   "id": "671b2891",
   "metadata": {},
   "source": [
    "<p style=\"font-family:Verdana; font-size: 22px; color: orange\"> Reshaping using unknown dimension </p>"
   ]
  },
  {
   "cell_type": "code",
   "execution_count": 5,
   "id": "27638ab1",
   "metadata": {},
   "outputs": [
    {
     "name": "stdout",
     "output_type": "stream",
     "text": [
      "Array : [ 1  2  3  4  5  6  7  8  9 10 11 12 13 14 15 16]\n",
      "First Reshaped Array : \n",
      "[[[ 1  2  3  4]\n",
      "  [ 5  6  7  8]]\n",
      "\n",
      " [[ 9 10 11 12]\n",
      "  [13 14 15 16]]]\n",
      "Second Reshaped Array : \n",
      "[[ 1  2  3  4]\n",
      " [ 5  6  7  8]\n",
      " [ 9 10 11 12]\n",
      " [13 14 15 16]]\n"
     ]
    }
   ],
   "source": [
    "\n",
    "# creating a numpy array\n",
    "array = np.array([1, 2, 3, 4, 5, 6, 7, 8, 9, 10, 11, 12, 13, 14, 15, 16])\n",
    "\n",
    "# printing array\n",
    "print(\"Array : \" + str(array))\n",
    "\n",
    "\n",
    "# reshaping numpy array\n",
    "# converting it to 3-D from 1-D array\n",
    "reshaped1 = array.reshape((2, 2, -1))\n",
    "\n",
    "# printing reshaped array\n",
    "print(\"First Reshaped Array : \")\n",
    "print(reshaped1)\n",
    "\n",
    "\n",
    "# converting it to 2-D array\n",
    "reshaped2 = array.reshape((4, -1))\n",
    "\n",
    "# printing reshaped array\n",
    "print(\"Second Reshaped Array : \")\n",
    "print(reshaped2)"
   ]
  },
  {
   "cell_type": "markdown",
   "id": "bb101600",
   "metadata": {},
   "source": [
    "<p style=\"font-family:Verdana; font-size: 22px; color: orange\"> Errors Occur during reshaping </p>"
   ]
  },
  {
   "cell_type": "markdown",
   "id": "228dbb22",
   "metadata": {},
   "source": [
    "> When we try to reshape a array to a shape which is not mathematically possible \n",
    ">> then value error is generated saying can not reshape the array."
   ]
  },
  {
   "cell_type": "code",
   "execution_count": 6,
   "id": "22aee33b",
   "metadata": {},
   "outputs": [
    {
     "name": "stdout",
     "output_type": "stream",
     "text": [
      " 2-D Array : \n",
      "[[1 2 3]\n",
      " [4 5 6]\n",
      " [7 8 9]]\n"
     ]
    },
    {
     "ename": "ValueError",
     "evalue": "cannot reshape array of size 9 into shape (1,5)",
     "output_type": "error",
     "traceback": [
      "\u001b[1;31m---------------------------------------------------------------------------\u001b[0m",
      "\u001b[1;31mValueError\u001b[0m                                Traceback (most recent call last)",
      "Cell \u001b[1;32mIn[6], line 14\u001b[0m\n\u001b[0;32m      8\u001b[0m \u001b[38;5;28mprint\u001b[39m(array)\n\u001b[0;32m     11\u001b[0m \u001b[38;5;66;03m# reshaping numpy array\u001b[39;00m\n\u001b[0;32m     12\u001b[0m \u001b[38;5;66;03m# converting it to 1-D from 2-D array\u001b[39;00m\n\u001b[0;32m     13\u001b[0m \u001b[38;5;66;03m# reshaping it into 1, 5\u001b[39;00m\n\u001b[1;32m---> 14\u001b[0m reshaped \u001b[38;5;241m=\u001b[39m array\u001b[38;5;241m.\u001b[39mreshape((\u001b[38;5;241m1\u001b[39m, \u001b[38;5;241m5\u001b[39m))\n\u001b[0;32m     16\u001b[0m \u001b[38;5;66;03m# or we can use \u001b[39;00m\n\u001b[0;32m     17\u001b[0m \n\u001b[0;32m     18\u001b[0m \u001b[38;5;66;03m# printing reshaped array\u001b[39;00m\n\u001b[0;32m     19\u001b[0m \u001b[38;5;28mprint\u001b[39m(\u001b[38;5;124m\"\u001b[39m\u001b[38;5;124mReshaped 1-D Array : \u001b[39m\u001b[38;5;124m\"\u001b[39m)\n",
      "\u001b[1;31mValueError\u001b[0m: cannot reshape array of size 9 into shape (1,5)"
     ]
    }
   ],
   "source": [
    "# creating a numpy array\n",
    "array = np.array([[1, 2, 3],\n",
    "                 [4, 5, 6],\n",
    "                 [7, 8, 9]])\n",
    "\n",
    "# printing array\n",
    "print(\" 2-D Array : \")\n",
    "print(array)\n",
    "\n",
    "\n",
    "# reshaping numpy array\n",
    "# converting it to 1-D from 2-D array\n",
    "# reshaping it into 1, 5\n",
    "reshaped = array.reshape((1, 5))\n",
    "\n",
    "# or we can use \n",
    "\n",
    "# printing reshaped array\n",
    "print(\"Reshaped 1-D Array : \")\n",
    "print(reshaped)"
   ]
  }
 ],
 "metadata": {
  "kernelspec": {
   "display_name": "base",
   "language": "python",
   "name": "python3"
  },
  "language_info": {
   "codemirror_mode": {
    "name": "ipython",
    "version": 3
   },
   "file_extension": ".py",
   "mimetype": "text/x-python",
   "name": "python",
   "nbconvert_exporter": "python",
   "pygments_lexer": "ipython3",
   "version": "3.12.7"
  }
 },
 "nbformat": 4,
 "nbformat_minor": 5
}
