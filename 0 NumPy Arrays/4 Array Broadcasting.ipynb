{
 "cells": [
  {
   "cell_type": "markdown",
   "id": "97a2393d",
   "metadata": {},
   "source": [
    "<p style=\"font-family:Verdana; font-size: 22px; color: cyan\"> NumPy Array Broadcasting</p>"
   ]
  },
  {
   "cell_type": "code",
   "execution_count": 1,
   "id": "5ffb5b73",
   "metadata": {},
   "outputs": [],
   "source": [
    "import numpy as np "
   ]
  },
  {
   "cell_type": "markdown",
   "id": "05b65254",
   "metadata": {},
   "source": [
    "<p style=\"font-family:Verdana; font-size: 22px; color: orange\"> Broadcasting in NumPy allows us to perform arithmetic operations on arrays of different shapes without reshaping them. </p>"
   ]
  },
  {
   "cell_type": "markdown",
   "id": "5cfab031",
   "metadata": {},
   "source": [
    "> It automatically adjusts the smaller array to match the larger array's shape by replicating its values along the necessary dimensions. \n",
    ">> This makes element-wise operations more efficient by reducing memory usage and eliminating the need for loops.  "
   ]
  },
  {
   "cell_type": "code",
   "execution_count": 2,
   "id": "6dd28a40",
   "metadata": {},
   "outputs": [
    {
     "name": "stdout",
     "output_type": "stream",
     "text": [
      "[[11 12 13]\n",
      " [14 15 16]]\n"
     ]
    }
   ],
   "source": [
    "array_2d = np.array([[1, 2, 3], [4, 5, 6]])  \n",
    "scalar = 10  \n",
    "\n",
    "result = array_2d + scalar\n",
    "print(result)"
   ]
  },
  {
   "cell_type": "markdown",
   "id": "db0699fb",
   "metadata": {},
   "source": [
    "<p style=\"font-family:Verdana; font-size: 22px; color: orange\"> 1. Important points:</p>"
   ]
  },
  {
   "cell_type": "markdown",
   "id": "b58c05b5",
   "metadata": {},
   "source": [
    "> Check Dimensions: Ensure the arrays have the same number of dimensions or expandable dimensions.\n",
    ">> Dimension Padding: If arrays have different numbers of dimensions the smaller array is left-padded with ones.\n",
    ">>> Shape Compatibility: Two dimensions are compatible if they are equal or one of them is 1."
   ]
  },
  {
   "cell_type": "markdown",
   "id": "0597e583",
   "metadata": {},
   "source": [
    "<p style=\"font-family:Verdana; font-size: 22px; color: orange\"> Example 1: Broadcasting a Scalar to a 1D Array</p>\n"
   ]
  },
  {
   "cell_type": "code",
   "execution_count": 3,
   "id": "ff0ac826",
   "metadata": {},
   "outputs": [
    {
     "name": "stdout",
     "output_type": "stream",
     "text": [
      "[2 3 4]\n"
     ]
    }
   ],
   "source": [
    "arr = np.array([1, 2, 3])\n",
    "\n",
    "res = arr + 1  \n",
    "print(res)"
   ]
  },
  {
   "cell_type": "markdown",
   "id": "68f11bee",
   "metadata": {},
   "source": [
    "<p style=\"font-family:Verdana; font-size: 22px; color: orange\"> Example 2: Broadcasting a 1D Array to a 2D Array</p>"
   ]
  },
  {
   "cell_type": "code",
   "execution_count": 4,
   "id": "6486fd1c",
   "metadata": {},
   "outputs": [
    {
     "name": "stdout",
     "output_type": "stream",
     "text": [
      "[[ 3  7 11]\n",
      " [ 9 13 17]]\n"
     ]
    }
   ],
   "source": [
    "a1 = np.array([2, 4, 6])\n",
    "a2 = np.array([[1, 3, 5], [7, 9, 11]])\n",
    "res = a1 + a2\n",
    "print(res)"
   ]
  },
  {
   "cell_type": "markdown",
   "id": "50f40d69",
   "metadata": {},
   "source": [
    "<p style=\"font-family:Verdana; font-size: 22px; color: orange\"> Example 3: Broadcasting in Conditional Operations</p>"
   ]
  },
  {
   "cell_type": "code",
   "execution_count": 5,
   "id": "ab3cbf37",
   "metadata": {},
   "outputs": [
    {
     "name": "stdout",
     "output_type": "stream",
     "text": [
      "['Minor' 'Adult' 'Adult' 'Adult' 'Adult' 'Adult']\n"
     ]
    }
   ],
   "source": [
    "ages = np.array([12, 24, 35, 45, 60, 72])\n",
    "\n",
    "age_group = np.array([\"Adult\", \"Minor\"])\n",
    "\n",
    "result = np.where(ages > 18, age_group[0], age_group[1])\n",
    "\n",
    "print(result)"
   ]
  },
  {
   "cell_type": "markdown",
   "id": "efb7e273",
   "metadata": {},
   "source": [
    "<p style=\"font-family:Verdana; font-size: 22px; color: orange\"> Example 4: Using Broadcasting for Matrix Multiplication</p>"
   ]
  },
  {
   "cell_type": "code",
   "execution_count": 6,
   "id": "dd5a40a7",
   "metadata": {},
   "outputs": [
    {
     "name": "stdout",
     "output_type": "stream",
     "text": [
      "[[10 40]\n",
      " [30 80]]\n"
     ]
    }
   ],
   "source": [
    "matrix = np.array([[1, 2], [3, 4]])\n",
    "vector = np.array([10, 20])\n",
    "result = matrix * vector\n",
    "print(result)"
   ]
  },
  {
   "cell_type": "markdown",
   "id": "0897aa0f",
   "metadata": {},
   "source": [
    "<p style=\"font-family:Verdana; font-size: 22px; color: orange\"> Example 5: Scaling Data with Broadcasting</p>"
   ]
  },
  {
   "cell_type": "code",
   "execution_count": 7,
   "id": "5276b8d1",
   "metadata": {},
   "outputs": [
    {
     "name": "stdout",
     "output_type": "stream",
     "text": [
      "[[  2.4   8.7  31.2]\n",
      " [157.2  70.8 292. ]\n",
      " [165.6  95.1 191.2]\n",
      " [ 43.2  33.   39.2]]\n"
     ]
    }
   ],
   "source": [
    "food_data = np.array([[0.8, 2.9, 3.9], \n",
    "                      [52.4, 23.6, 36.5],\n",
    "                      [55.2, 31.7, 23.9],\n",
    "                      [14.4, 11, 4.9]])\n",
    "\n",
    "caloric_values = np.array([3, 3, 8]) \n",
    "\n",
    "caloric_matrix = caloric_values \n",
    "\n",
    "calorie_breakdown = food_data * caloric_matrix\n",
    "print(calorie_breakdown)"
   ]
  },
  {
   "cell_type": "markdown",
   "id": "f1136410",
   "metadata": {},
   "source": [
    "<p style=\"font-family:Verdana; font-size: 22px; color: orange\"> Example 6: Adjusting Temperature Data Across Multiple Locations</p>"
   ]
  },
  {
   "cell_type": "code",
   "execution_count": 8,
   "id": "3743ccd2",
   "metadata": {},
   "outputs": [
    {
     "name": "stdout",
     "output_type": "stream",
     "text": [
      "[[31.5 33.5 35.5 34.5 32.5]\n",
      " [24.5 26.5 28.5 27.5 25.5]\n",
      " [22.  24.  26.  25.  23. ]]\n"
     ]
    }
   ],
   "source": [
    "temperatures = np.array([\n",
    "    [30, 32, 34, 33, 31],  \n",
    "    [25, 27, 29, 28, 26], \n",
    "    [20, 22, 24, 23, 21]  \n",
    "])\n",
    "\n",
    "corrections = np.array([1.5, -0.5, 2.0])\n",
    "\n",
    "adjusted_temperatures = temperatures + corrections[:, np.newaxis]\n",
    "print(adjusted_temperatures)"
   ]
  },
  {
   "cell_type": "markdown",
   "id": "8a844bfa",
   "metadata": {},
   "source": [
    "<p style=\"font-family:Verdana; font-size: 22px; color: orange\"> Example 7: Normalizing Image Data</p>"
   ]
  },
  {
   "cell_type": "code",
   "execution_count": 9,
   "id": "364378b5",
   "metadata": {},
   "outputs": [
    {
     "name": "stdout",
     "output_type": "stream",
     "text": [
      "[[-5. -5.]\n",
      " [ 0.  0.]\n",
      " [ 5.  5.]]\n"
     ]
    }
   ],
   "source": [
    "data = np.array([\n",
    "    [10, 20],\n",
    "    [15, 25],\n",
    "    [20, 30]\n",
    "])\n",
    "\n",
    "feature_mean = data.mean(axis=0)\n",
    "\n",
    "centered_data = data - feature_mean\n",
    "print(centered_data)"
   ]
  },
  {
   "cell_type": "code",
   "execution_count": null,
   "id": "944416d7",
   "metadata": {},
   "outputs": [],
   "source": []
  }
 ],
 "metadata": {
  "kernelspec": {
   "display_name": "base",
   "language": "python",
   "name": "python3"
  },
  "language_info": {
   "codemirror_mode": {
    "name": "ipython",
    "version": 3
   },
   "file_extension": ".py",
   "mimetype": "text/x-python",
   "name": "python",
   "nbconvert_exporter": "python",
   "pygments_lexer": "ipython3",
   "version": "3.12.7"
  }
 },
 "nbformat": 4,
 "nbformat_minor": 5
}
