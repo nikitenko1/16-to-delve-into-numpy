{
 "cells": [
  {
   "cell_type": "markdown",
   "id": "a003dc77",
   "metadata": {},
   "source": [
    "<p style=\"font-family:Verdana; font-size: 22px; color: cyan\"> Questions on NumPy Array</p>"
   ]
  },
  {
   "cell_type": "code",
   "execution_count": 3,
   "id": "086b0559",
   "metadata": {},
   "outputs": [],
   "source": [
    "import numpy as np "
   ]
  },
  {
   "cell_type": "markdown",
   "id": "610e60c4",
   "metadata": {},
   "source": [
    "\n",
    "<p style=\"font-family:Verdana; font-size: 22px; color: orange\"> 11. How to compare two NumPy arrays?</p>"
   ]
  },
  {
   "cell_type": "markdown",
   "id": "7bb7471c",
   "metadata": {},
   "source": [
    "> Method 1: We generally use the == operator to compare two NumPy arrays to generate a new array object. "
   ]
  },
  {
   "cell_type": "code",
   "execution_count": 8,
   "id": "15b431a9",
   "metadata": {},
   "outputs": [
    {
     "name": "stdout",
     "output_type": "stream",
     "text": [
      "True\n"
     ]
    }
   ],
   "source": [
    "an_array = np.array([[1, 2], [3, 4]])\n",
    "another_array = np.array([[1, 2], [3, 4]])\n",
    "\n",
    "comparison = an_array == another_array\n",
    "equal_arrays = comparison.all()\n",
    "\n",
    "print(equal_arrays)"
   ]
  },
  {
   "cell_type": "markdown",
   "id": "ae791087",
   "metadata": {},
   "source": [
    ">> Method 2: We can also use greater than, less than and equal to operators to compare."
   ]
  },
  {
   "cell_type": "code",
   "execution_count": 10,
   "id": "51ca5335",
   "metadata": {},
   "outputs": [
    {
     "name": "stdout",
     "output_type": "stream",
     "text": [
      "Array a:  [101  99  87]\n",
      "Array b:  [897  97 111]\n"
     ]
    }
   ],
   "source": [
    "a = np.array([101, 99, 87])\n",
    "b = np.array([897, 97, 111])\n",
    "\n",
    "print(\"Array a: \", a)\n",
    "print(\"Array b: \", b)"
   ]
  },
  {
   "cell_type": "code",
   "execution_count": 11,
   "id": "054123f0",
   "metadata": {},
   "outputs": [
    {
     "name": "stdout",
     "output_type": "stream",
     "text": [
      "a > b\n",
      "[False  True False]\n"
     ]
    }
   ],
   "source": [
    "print(\"a > b\")\n",
    "print(np.greater(a, b))"
   ]
  },
  {
   "cell_type": "code",
   "execution_count": 12,
   "id": "b1e2398e",
   "metadata": {},
   "outputs": [
    {
     "name": "stdout",
     "output_type": "stream",
     "text": [
      "a >= b\n",
      "[False  True False]\n"
     ]
    }
   ],
   "source": [
    "print(\"a >= b\")\n",
    "print(np.greater_equal(a, b))"
   ]
  },
  {
   "cell_type": "code",
   "execution_count": 13,
   "id": "15e653d6",
   "metadata": {},
   "outputs": [
    {
     "name": "stdout",
     "output_type": "stream",
     "text": [
      "a < b\n",
      "[ True False  True]\n"
     ]
    }
   ],
   "source": [
    "print(\"a < b\")\n",
    "print(np.less(a, b))"
   ]
  },
  {
   "cell_type": "code",
   "execution_count": 14,
   "id": "6ccfd3d3",
   "metadata": {},
   "outputs": [
    {
     "name": "stdout",
     "output_type": "stream",
     "text": [
      "a <= b\n",
      "[ True False  True]\n"
     ]
    }
   ],
   "source": [
    "print(\"a <= b\")\n",
    "print(np.less_equal(a, b))"
   ]
  },
  {
   "cell_type": "markdown",
   "id": "a3f44fd3",
   "metadata": {},
   "source": [
    "<p style=\"font-family:Verdana; font-size: 22px; color: orange\"> 12. How to check whether specified values are present in NumPy array?</p>"
   ]
  },
  {
   "cell_type": "markdown",
   "id": "daaab0c4",
   "metadata": {},
   "source": [
    ">  \"in\" operator is used to check whether certain element and values are present in a given sequence and hence return Boolean values 'True\" and \"False\"."
   ]
  },
  {
   "cell_type": "code",
   "execution_count": 15,
   "id": "da75e8af",
   "metadata": {},
   "outputs": [
    {
     "name": "stdout",
     "output_type": "stream",
     "text": [
      "Given array:\n",
      "[[2 3 0]\n",
      " [4 1 6]]\n"
     ]
    }
   ],
   "source": [
    "# creating a Numpy array\n",
    "n_array = np.array([[2, 3, 0],\n",
    "                    [4, 1, 6]])\n",
    "\n",
    "print(\"Given array:\")\n",
    "print(n_array)\n"
   ]
  },
  {
   "cell_type": "code",
   "execution_count": 16,
   "id": "ae884145",
   "metadata": {},
   "outputs": [
    {
     "name": "stdout",
     "output_type": "stream",
     "text": [
      "True\n",
      "True\n",
      "True\n",
      "False\n",
      "False\n"
     ]
    }
   ],
   "source": [
    "# Checking whether specific values\n",
    "# are present in \"n_array\" or not\n",
    "print(2 in n_array)\n",
    "print(0 in n_array)\n",
    "print(6 in n_array)\n",
    "print(50 in n_array)\n",
    "print(10 in n_array)"
   ]
  },
  {
   "cell_type": "markdown",
   "id": "d27b9f76",
   "metadata": {},
   "source": [
    "<p style=\"font-family:Verdana; font-size: 22px; color: orange\"> 13. Flatten a Matrix in Python using NumPy</p>"
   ]
  },
  {
   "cell_type": "markdown",
   "id": "c08dc18b",
   "metadata": {},
   "source": [
    "> By using ndarray.flatten() function we can flatten a matrix to one dimension in python."
   ]
  },
  {
   "cell_type": "code",
   "execution_count": 17,
   "id": "b1ff24c4",
   "metadata": {},
   "outputs": [
    {
     "name": "stdout",
     "output_type": "stream",
     "text": [
      "[2 3 4 5]\n"
     ]
    }
   ],
   "source": [
    "# declare matrix with np\n",
    "gfg = np.array([[2, 3], [4, 5]])\n",
    "\n",
    "# using array.flatten() method\n",
    "flat_gfg = gfg.flatten()\n",
    "print(flat_gfg)"
   ]
  },
  {
   "cell_type": "code",
   "execution_count": 18,
   "id": "422fcf12",
   "metadata": {},
   "outputs": [
    {
     "data": {
      "text/plain": [
       "array([ 6,  9,  8,  5, 18, 21])"
      ]
     },
     "execution_count": 18,
     "metadata": {},
     "output_type": "execute_result"
    }
   ],
   "source": [
    "# declare matrix with np\n",
    "gfg = np.array([[6, 9], [8, 5], [18, 21]])\n",
    "\n",
    "# using array.flatten() method\n",
    "gfg.flatten()"
   ]
  },
  {
   "cell_type": "code",
   "execution_count": 19,
   "id": "9de70c17",
   "metadata": {},
   "outputs": [
    {
     "name": "stdout",
     "output_type": "stream",
     "text": [
      "[ 6  9 12  8  5  2 18 21 24]\n"
     ]
    }
   ],
   "source": [
    "# declare matrix with np\n",
    "gfg = np.array([[6, 9, 12], [8, 5, 2], [18, 21, 24]])\n",
    "\n",
    "# using array.flatten() method\n",
    "flat_gfg = gfg.flatten(order='A')\n",
    "print(flat_gfg)"
   ]
  },
  {
   "cell_type": "markdown",
   "id": "d426c8a6",
   "metadata": {},
   "source": [
    "<p style=\"font-family:Verdana; font-size: 22px; color: orange\"> 14. Counts the number of non-zero values in the array</p>"
   ]
  },
  {
   "cell_type": "markdown",
   "id": "42e9eb04",
   "metadata": {},
   "source": [
    "> Syntax  :  numpy.count_nonzero(arr, axis=None)"
   ]
  },
  {
   "cell_type": "code",
   "execution_count": 20,
   "id": "8aef81de",
   "metadata": {},
   "outputs": [
    {
     "name": "stdout",
     "output_type": "stream",
     "text": [
      "6\n"
     ]
    }
   ],
   "source": [
    "arr = [[0, 1, 2, 3, 0], [0, 5, 6, 0, 7]]\n",
    "\n",
    "gfg = np.count_nonzero(arr)\n",
    "\n",
    "print (gfg)"
   ]
  },
  {
   "cell_type": "code",
   "execution_count": 24,
   "id": "375d6af0",
   "metadata": {},
   "outputs": [
    {
     "name": "stdout",
     "output_type": "stream",
     "text": [
      "[1 1 2 1 2]\n"
     ]
    }
   ],
   "source": [
    "arr = [[0, 1, 2, 3, 4], [5, 0, 6, 0, 7]]\n",
    "\n",
    "gfg = np.count_nonzero(arr, axis = 0)\n",
    "\n",
    "print (gfg)"
   ]
  },
  {
   "cell_type": "markdown",
   "id": "d0314843",
   "metadata": {},
   "source": [
    "<p style=\"font-family:Verdana; font-size: 22px; color: orange\"> 15. Count the number of elements along a given axis</p>"
   ]
  },
  {
   "cell_type": "markdown",
   "id": "fcd452a4",
   "metadata": {},
   "source": [
    "> numpy.size() function in Python is used to count the number of elements in a NumPy array.\n"
   ]
  },
  {
   "cell_type": "markdown",
   "id": "d3c412d5",
   "metadata": {},
   "source": [
    ">> 1. To Find Total Number of Elements"
   ]
  },
  {
   "cell_type": "code",
   "execution_count": 25,
   "id": "a6b23c3b",
   "metadata": {},
   "outputs": [
    {
     "name": "stdout",
     "output_type": "stream",
     "text": [
      "8\n"
     ]
    }
   ],
   "source": [
    "arr = np.array([[1, 2, 3, 4], [5, 6, 7, 8]])\n",
    "print(np.size(arr))"
   ]
  },
  {
   "cell_type": "markdown",
   "id": "0d6de7ed",
   "metadata": {},
   "source": [
    ">> 2. To Count the Elements Along a Specific Axis"
   ]
  },
  {
   "cell_type": "code",
   "execution_count": 28,
   "id": "2e3d9cb4",
   "metadata": {},
   "outputs": [
    {
     "name": "stdout",
     "output_type": "stream",
     "text": [
      "2\n",
      "4\n"
     ]
    }
   ],
   "source": [
    "arr = np.array([\n",
    "    [1, 2, 3, 4],\n",
    "    [5, 6, 7, 8]\n",
    "    ])\n",
    "# Here 0 is used to denote the axis as rows and 1 is used to denote axis as columns. \n",
    "print(np.size(arr, 0)) # Therefore np.size(arr, 0) will returns the number of rows \n",
    "print(np.size(arr, 1)) # and np.size(arr, 1) returns the number of columns."
   ]
  },
  {
   "cell_type": "markdown",
   "id": "567791f1",
   "metadata": {},
   "source": [
    ">>> 3. To Count Elements in a 3D Array\n",
    "* axis=0 refers to the number of blocks (first level of depth).\n",
    "* axis=1 refers to the number of rows in each block.\n",
    "* axis=2 refers to the number of columns in each row."
   ]
  },
  {
   "cell_type": "code",
   "execution_count": 30,
   "id": "2e5d1f3a",
   "metadata": {},
   "outputs": [
    {
     "name": "stdout",
     "output_type": "stream",
     "text": [
      "12\n",
      "2\n",
      "3\n",
      "2\n"
     ]
    }
   ],
   "source": [
    "arr = np.array([\n",
    "    [\n",
    "        [1, 2],\n",
    "        [1, 2], \n",
    "        [3, 4]\n",
    "    ],\n",
    "    [\n",
    "        [5, 6],\n",
    "        [1, 2], \n",
    "        [7, 8]\n",
    "    ]\n",
    "                ])\n",
    "\n",
    "print(np.size(arr)) \n",
    "print(np.size(arr, 0))    \n",
    "print(np.size(arr, 1))\n",
    "print(np.size(arr, 2))"
   ]
  },
  {
   "cell_type": "markdown",
   "id": "db4c3996",
   "metadata": {},
   "source": [
    "<p style=\"font-family:Verdana; font-size: 22px; color: orange\"> 16. Reverse a numpy array</p>"
   ]
  },
  {
   "cell_type": "markdown",
   "id": "ad2535ed",
   "metadata": {},
   "source": [
    "> Using flip() function to Reverse a Numpy array"
   ]
  },
  {
   "cell_type": "code",
   "execution_count": 31,
   "id": "a0f50dbb",
   "metadata": {},
   "outputs": [
    {
     "name": "stdout",
     "output_type": "stream",
     "text": [
      "final array [5 4 6 3 2 1]\n"
     ]
    }
   ],
   "source": [
    "# The numpy.flip() function reverses the order of array elements along the specified axis, preserving the shape of the array.\n",
    "# initialising numpy array\n",
    "ini_array = np.array([1, 2, 3, 6, 4, 5])\n",
    "\n",
    "# using shortcut method to reverse\n",
    "res = np.flip(ini_array)\n",
    "\n",
    "# printing result\n",
    "print(\"final array\", str(res))"
   ]
  },
  {
   "cell_type": "markdown",
   "id": "d705b371",
   "metadata": {},
   "source": [
    ">> Using the list slicing method to reverse a Numpy array"
   ]
  },
  {
   "cell_type": "code",
   "execution_count": 32,
   "id": "3ebc39a0",
   "metadata": {},
   "outputs": [
    {
     "name": "stdout",
     "output_type": "stream",
     "text": [
      "initial array [1 2 3 6 4 5]\n"
     ]
    }
   ],
   "source": [
    "\n",
    "# initialising numpy array\n",
    "ini_array = np.array([1, 2, 3, 6, 4, 5])\n",
    "\n",
    "# printing initial ini_array\n",
    "print(\"initial array\", str(ini_array))\n"
   ]
  },
  {
   "cell_type": "code",
   "execution_count": 33,
   "id": "1ee29f05",
   "metadata": {},
   "outputs": [
    {
     "name": "stdout",
     "output_type": "stream",
     "text": [
      "type of ini_array <class 'numpy.ndarray'>\n",
      "final array [5 4 6 3 2 1]\n"
     ]
    }
   ],
   "source": [
    "# printing type of ini_array\n",
    "print(\"type of ini_array\", type(ini_array))\n",
    "\n",
    "# using shortcut method to reverse\n",
    "res = ini_array[::-1]\n",
    "\n",
    "# printing result\n",
    "print(\"final array\", str(res))"
   ]
  },
  {
   "cell_type": "markdown",
   "id": "715e6658",
   "metadata": {},
   "source": [
    ">> Using flipud function to Reverse a Numpy array "
   ]
  },
  {
   "cell_type": "code",
   "execution_count": 34,
   "id": "5abe5c9c",
   "metadata": {},
   "outputs": [
    {
     "name": "stdout",
     "output_type": "stream",
     "text": [
      "initial array [1 2 3 6 4 5]\n",
      "type of ini_array <class 'numpy.ndarray'>\n",
      "final array [5 4 6 3 2 1]\n"
     ]
    }
   ],
   "source": [
    "# initialising numpy array\n",
    "ini_array = np.array([1, 2, 3, 6, 4, 5])\n",
    "\n",
    "# printing initial ini_array\n",
    "print(\"initial array\", str(ini_array))\n",
    "\n",
    "# printing type of ini_array\n",
    "print(\"type of ini_array\", type(ini_array))\n",
    "\n",
    "# using flipud method to reverse\n",
    "res = np.flipud(ini_array)\n",
    "\n",
    "# printing result\n",
    "print(\"final array\", str(res))"
   ]
  }
 ],
 "metadata": {
  "kernelspec": {
   "display_name": "base",
   "language": "python",
   "name": "python3"
  },
  "language_info": {
   "codemirror_mode": {
    "name": "ipython",
    "version": 3
   },
   "file_extension": ".py",
   "mimetype": "text/x-python",
   "name": "python",
   "nbconvert_exporter": "python",
   "pygments_lexer": "ipython3",
   "version": "3.12.7"
  }
 },
 "nbformat": 4,
 "nbformat_minor": 5
}
