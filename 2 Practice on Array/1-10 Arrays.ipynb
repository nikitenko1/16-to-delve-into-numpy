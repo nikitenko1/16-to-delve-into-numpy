{
 "cells": [
  {
   "cell_type": "markdown",
   "id": "a003dc77",
   "metadata": {},
   "source": [
    "<p style=\"font-family:Verdana; font-size: 22px; color: cyan\"> Questions on NumPy Array</p>"
   ]
  },
  {
   "cell_type": "code",
   "execution_count": 1,
   "id": "086b0559",
   "metadata": {},
   "outputs": [],
   "source": [
    "import numpy as np "
   ]
  },
  {
   "cell_type": "markdown",
   "id": "610e60c4",
   "metadata": {},
   "source": [
    "\n",
    "<p style=\"font-family:Verdana; font-size: 22px; color: orange\"> 1. How to create an empty and a full NumPy array?</p>"
   ]
  },
  {
   "cell_type": "code",
   "execution_count": 2,
   "id": "15b431a9",
   "metadata": {},
   "outputs": [
    {
     "name": "stdout",
     "output_type": "stream",
     "text": [
      "Empty Array:\n",
      " [[4.45057637e-308 1.78021527e-306 8.45549797e-307 1.37962049e-306]\n",
      " [1.11260619e-306 1.78010255e-306 9.79054228e-307 4.45057637e-308]\n",
      " [8.45596650e-307 9.34602321e-307 4.94065646e-322 1.51038982e+160]]\n"
     ]
    }
   ],
   "source": [
    "# Create an empty array of shape (3, 4)\n",
    "empty_array = np.empty((3, 4))\n",
    "print(\"Empty Array:\\n\", empty_array)"
   ]
  },
  {
   "cell_type": "code",
   "execution_count": 3,
   "id": "d23a591e",
   "metadata": {},
   "outputs": [
    {
     "name": "stdout",
     "output_type": "stream",
     "text": [
      "Full Array:\n",
      " [[5 5 5]\n",
      " [5 5 5]\n",
      " [5 5 5]]\n"
     ]
    }
   ],
   "source": [
    "# Create a full array of shape (3, 3) filled with the value 5\n",
    "full_array = np.full((3, 3), 5)\n",
    "print(\"Full Array:\\n\", full_array)"
   ]
  },
  {
   "cell_type": "markdown",
   "id": "d075fc5d",
   "metadata": {},
   "source": [
    "<p style=\"font-family:Verdana; font-size: 22px; color: orange\"> 2. Create a Numpy array filled with all zeros - Python</p>"
   ]
  },
  {
   "cell_type": "code",
   "execution_count": 4,
   "id": "267c9f6d",
   "metadata": {},
   "outputs": [
    {
     "name": "stdout",
     "output_type": "stream",
     "text": [
      "[0. 0. 0. 0. 0.]\n"
     ]
    }
   ],
   "source": [
    "# Create a 1D array of zeros with 5 elements\n",
    "array_1d = np.zeros(5)\n",
    "print(array_1d)"
   ]
  },
  {
   "cell_type": "markdown",
   "id": "7654fbae",
   "metadata": {},
   "source": [
    "> By default, the data type of the array is float, so the zeros are represented as 0.0."
   ]
  },
  {
   "cell_type": "code",
   "execution_count": 5,
   "id": "4646671a",
   "metadata": {},
   "outputs": [
    {
     "name": "stdout",
     "output_type": "stream",
     "text": [
      "[[0. 0. 0. 0.]\n",
      " [0. 0. 0. 0.]\n",
      " [0. 0. 0. 0.]]\n"
     ]
    }
   ],
   "source": [
    "# Create a 2D array of zeros (3 rows, 4 columns)\n",
    "array_2d = np.zeros((3, 4))\n",
    "print(array_2d)"
   ]
  },
  {
   "cell_type": "code",
   "execution_count": 6,
   "id": "ba5d056f",
   "metadata": {},
   "outputs": [
    {
     "name": "stdout",
     "output_type": "stream",
     "text": [
      "[[0 0 0]\n",
      " [0 0 0]]\n"
     ]
    }
   ],
   "source": [
    "# Create an integer zero array\n",
    "array_int = np.zeros((2, 3), dtype=int)\n",
    "print(array_int)"
   ]
  },
  {
   "cell_type": "markdown",
   "id": "188869f9",
   "metadata": {},
   "source": [
    "<p style=\"font-family:Verdana; font-size: 22px; color: orange\"> 3. Create a Numpy array filled with all ones</p>"
   ]
  },
  {
   "cell_type": "code",
   "execution_count": 7,
   "id": "e2c529d9",
   "metadata": {},
   "outputs": [
    {
     "name": "stdout",
     "output_type": "stream",
     "text": [
      "[1. 1. 1. 1. 1.]\n"
     ]
    }
   ],
   "source": [
    "array = np.ones(5)\n",
    "print(array)"
   ]
  },
  {
   "cell_type": "markdown",
   "id": "c8e79128",
   "metadata": {},
   "source": [
    "> 2D Array of Ones"
   ]
  },
  {
   "cell_type": "code",
   "execution_count": 8,
   "id": "ae27d305",
   "metadata": {},
   "outputs": [
    {
     "name": "stdout",
     "output_type": "stream",
     "text": [
      "[[1. 1. 1. 1.]\n",
      " [1. 1. 1. 1.]\n",
      " [1. 1. 1. 1.]]\n"
     ]
    }
   ],
   "source": [
    "# Create a 2D array of ones (3 rows, 4 columns)\n",
    "ones_array_2d = np.ones((3, 4))\n",
    "print(ones_array_2d)"
   ]
  },
  {
   "cell_type": "markdown",
   "id": "d89b33c1",
   "metadata": {},
   "source": [
    ">> Array with a Specific Data Type"
   ]
  },
  {
   "cell_type": "code",
   "execution_count": 9,
   "id": "8ce2cc69",
   "metadata": {},
   "outputs": [
    {
     "name": "stdout",
     "output_type": "stream",
     "text": [
      "[1 1 1 1]\n"
     ]
    }
   ],
   "source": [
    "# Create an integer array of ones with 4 elements\n",
    "ones_int_array = np.ones(4, dtype=int)\n",
    "print(ones_int_array)"
   ]
  },
  {
   "cell_type": "markdown",
   "id": "79ef7e53",
   "metadata": {},
   "source": [
    ">>> Multi-Dimensional Array of Ones"
   ]
  },
  {
   "cell_type": "code",
   "execution_count": 10,
   "id": "f37aae89",
   "metadata": {},
   "outputs": [
    {
     "name": "stdout",
     "output_type": "stream",
     "text": [
      "[[[1. 1. 1. 1.]\n",
      "  [1. 1. 1. 1.]\n",
      "  [1. 1. 1. 1.]]\n",
      "\n",
      " [[1. 1. 1. 1.]\n",
      "  [1. 1. 1. 1.]\n",
      "  [1. 1. 1. 1.]]]\n"
     ]
    }
   ],
   "source": [
    "# Create a 3D array of ones with shape (2, 3, 4)\n",
    "ones_array_3d = np.ones((2, 3, 4))\n",
    "print(ones_array_3d)"
   ]
  },
  {
   "cell_type": "markdown",
   "id": "32d7e5a7",
   "metadata": {},
   "source": []
  },
  {
   "cell_type": "markdown",
   "id": "05f7d892",
   "metadata": {},
   "source": [
    "<p style=\"font-family:Verdana; font-size: 22px; color: orange\"> 4. Check whether a Numpy array contains a specified row</p>"
   ]
  },
  {
   "cell_type": "markdown",
   "id": "01918930",
   "metadata": {},
   "source": [
    "> Syntax: ndarray.tolist()"
   ]
  },
  {
   "cell_type": "code",
   "execution_count": 11,
   "id": "775fba72",
   "metadata": {},
   "outputs": [
    {
     "name": "stdout",
     "output_type": "stream",
     "text": [
      "[[ 1  2  3  4  5]\n",
      " [ 6  7  8  9 10]\n",
      " [11 12 13 14 15]\n",
      " [16 17 18 19 20]]\n"
     ]
    }
   ],
   "source": [
    "# create numpy array\n",
    "arr = np.array([[1, 2, 3, 4, 5],\n",
    "                   [6, 7, 8, 9, 10],\n",
    "                   [11, 12, 13, 14, 15],\n",
    "                   [16, 17, 18, 19, 20]\n",
    "                   ])\n",
    "\n",
    "# view array\n",
    "print(arr)"
   ]
  },
  {
   "cell_type": "code",
   "execution_count": 12,
   "id": "8b646a7a",
   "metadata": {},
   "outputs": [
    {
     "name": "stdout",
     "output_type": "stream",
     "text": [
      "True\n",
      "False\n",
      "False\n",
      "True\n"
     ]
    }
   ],
   "source": [
    "# check for some lists\n",
    "print([1, 2, 3, 4, 5] in arr.tolist())\n",
    "print([16, 17, 20, 19, 18] in arr.tolist())\n",
    "print([3, 2, 5, -4, 5] in arr.tolist())\n",
    "print([11, 12, 13, 14, 15] in arr.tolist())"
   ]
  },
  {
   "cell_type": "code",
   "execution_count": null,
   "id": "57939ec2",
   "metadata": {},
   "outputs": [],
   "source": []
  },
  {
   "cell_type": "markdown",
   "id": "31a983b7",
   "metadata": {},
   "source": [
    "<p style=\"font-family:Verdana; font-size: 22px; color: orange\"> 5. How to Remove rows in Numpy array that contains non-numeric values?</p>"
   ]
  },
  {
   "cell_type": "markdown",
   "id": "b96e9c9f",
   "metadata": {},
   "source": [
    "> using the np.isnan() function along with the Bitwise NOT operator"
   ]
  },
  {
   "cell_type": "code",
   "execution_count": 13,
   "id": "c98799b0",
   "metadata": {},
   "outputs": [
    {
     "name": "stdout",
     "output_type": "stream",
     "text": [
      "Given array:\n",
      "[[10.5 22.5  3.8]\n",
      " [41.   nan  nan]]\n"
     ]
    }
   ],
   "source": [
    "# Creating a 2x3 2-D NumPy array\n",
    "n_arr = np.array([[10.5, 22.5, 3.8],\n",
    "                  [41, np.nan, np.nan]])\n",
    "\n",
    "print(\"Given array:\")\n",
    "print(n_arr)"
   ]
  },
  {
   "cell_type": "code",
   "execution_count": 16,
   "id": "4bf2d8f9",
   "metadata": {},
   "outputs": [
    {
     "name": "stdout",
     "output_type": "stream",
     "text": [
      "\n",
      "Remove all rows containing NaN values:\n",
      "[[10.5 22.5  3.8]]\n"
     ]
    }
   ],
   "source": [
    "print(\"\\nRemove all rows containing NaN values:\")\n",
    "cleaned_arr = n_arr[~np.isnan(n_arr).any(axis=1)]\n",
    "print(cleaned_arr)"
   ]
  },
  {
   "cell_type": "code",
   "execution_count": 17,
   "id": "78dbc01b",
   "metadata": {},
   "outputs": [
    {
     "name": "stdout",
     "output_type": "stream",
     "text": [
      "Given array:\n",
      "[[10.5  22.5   3.8 ]\n",
      " [23.45 50.   78.7 ]\n",
      " [41.     nan   nan]]\n"
     ]
    }
   ],
   "source": [
    "# Creating a 3x3 2-D NumPy array\n",
    "n_arr = np.array([[10.5, 22.5, 3.8], \n",
    "                  [23.45, 50, 78.7],\n",
    "                  [41, np.nan, np.nan]])\n",
    "\n",
    "print(\"Given array:\")\n",
    "print(n_arr)"
   ]
  },
  {
   "cell_type": "code",
   "execution_count": 18,
   "id": "d70a9c50",
   "metadata": {},
   "outputs": [
    {
     "name": "stdout",
     "output_type": "stream",
     "text": [
      "\n",
      "Remove all rows containing NaN values:\n",
      "[[10.5  22.5   3.8 ]\n",
      " [23.45 50.   78.7 ]]\n"
     ]
    }
   ],
   "source": [
    "print(\"\\nRemove all rows containing NaN values:\")\n",
    "cleaned_arr = n_arr[~np.isnan(n_arr).any(axis=1)]\n",
    "print(cleaned_arr)"
   ]
  },
  {
   "cell_type": "code",
   "execution_count": 19,
   "id": "779bd2fc",
   "metadata": {},
   "outputs": [
    {
     "name": "stdout",
     "output_type": "stream",
     "text": [
      "Given array:\n",
      "[[10.5  22.5   3.8   5.  ]\n",
      " [23.45 50.   78.7   3.5 ]\n",
      " [41.     nan   nan  0.  ]\n",
      " [20.   50.2    nan  2.5 ]\n",
      " [18.8  50.6   8.8  58.6 ]]\n"
     ]
    }
   ],
   "source": [
    "# Creating a 5x4 2-D NumPy array\n",
    "n_arr = np.array([[10.5, 22.5, 3.8, 5],\n",
    "                  [23.45, 50, 78.7, 3.5],\n",
    "                  [41, np.nan, np.nan, 0],\n",
    "                  [20, 50.20, np.nan, 2.5],\n",
    "                  [18.8, 50.60, 8.8, 58.6]])\n",
    "\n",
    "print(\"Given array:\")\n",
    "print(n_arr)"
   ]
  },
  {
   "cell_type": "code",
   "execution_count": 20,
   "id": "8581fb86",
   "metadata": {},
   "outputs": [
    {
     "name": "stdout",
     "output_type": "stream",
     "text": [
      "\n",
      "Remove all rows containing NaN values:\n",
      "[[10.5  22.5   3.8   5.  ]\n",
      " [23.45 50.   78.7   3.5 ]\n",
      " [18.8  50.6   8.8  58.6 ]]\n"
     ]
    }
   ],
   "source": [
    "print(\"\\nRemove all rows containing NaN values:\")\n",
    "cleaned_arr = n_arr[~np.isnan(n_arr).any(axis=1)]\n",
    "print(cleaned_arr)"
   ]
  },
  {
   "cell_type": "markdown",
   "id": "122f0ee9",
   "metadata": {},
   "source": [
    "<p style=\"font-family:Verdana; font-size: 22px; color: orange\"> 6. Remove single-dimensional entries from the shape of an array</p>"
   ]
  },
  {
   "cell_type": "markdown",
   "id": "ea2bb8ce",
   "metadata": {},
   "source": [
    "<p style=\"font-family:Verdana; font-size: 22px; color: orange\"> numpy.squeeze() in Python</p>"
   ]
  },
  {
   "cell_type": "code",
   "execution_count": 21,
   "id": "ab562729",
   "metadata": {},
   "outputs": [
    {
     "name": "stdout",
     "output_type": "stream",
     "text": [
      "Input array :  [[[2 2 2]\n",
      "  [2 2 2]]]\n",
      "Shape of input array :  (1, 2, 3)\n"
     ]
    }
   ],
   "source": [
    "\n",
    "in_arr = np.array([[[2, 2, 2], [2, 2, 2]]])\n",
    " \n",
    "print (\"Input array : \", in_arr) \n",
    "print(\"Shape of input array : \", in_arr.shape)  "
   ]
  },
  {
   "cell_type": "code",
   "execution_count": 22,
   "id": "06df842e",
   "metadata": {},
   "outputs": [
    {
     "name": "stdout",
     "output_type": "stream",
     "text": [
      "output squeezed array :  [[2 2 2]\n",
      " [2 2 2]]\n",
      "Shape of output array :  (2, 3)\n"
     ]
    }
   ],
   "source": [
    "out_arr = np.squeeze(in_arr) \n",
    "\n",
    "print (\"output squeezed array : \", out_arr)\n",
    "print(\"Shape of output array : \", out_arr.shape) "
   ]
  },
  {
   "cell_type": "markdown",
   "id": "2238e452",
   "metadata": {},
   "source": [
    ">> Example 1: Using the axis parameter to squeeze a specific dimension"
   ]
  },
  {
   "cell_type": "code",
   "execution_count": 25,
   "id": "1b0e95aa",
   "metadata": {},
   "outputs": [
    {
     "name": "stdout",
     "output_type": "stream",
     "text": [
      "Input array :  [[[0 1 2]\n",
      "  [3 4 5]\n",
      "  [6 7 8]]]\n"
     ]
    }
   ],
   "source": [
    "in_arr = np.arange(9).reshape(1, 3, 3) \n",
    "print (\"Input array : \", in_arr)  "
   ]
  },
  {
   "cell_type": "code",
   "execution_count": 27,
   "id": "1df226a6",
   "metadata": {},
   "outputs": [
    {
     "name": "stdout",
     "output_type": "stream",
     "text": [
      "output array :  [[0 1 2]\n",
      " [3 4 5]\n",
      " [6 7 8]]\n",
      "The shapes of Input and Output array : \n",
      "(1, 3, 3) --> (3, 3)\n"
     ]
    }
   ],
   "source": [
    "out_arr = np.squeeze(in_arr, axis = 0) \n",
    "\n",
    "print (\"output array : \", out_arr)  \n",
    "print(\"The shapes of Input and Output array : \") \n",
    "print(in_arr.shape, \"-->\", out_arr.shape)"
   ]
  },
  {
   "cell_type": "markdown",
   "id": "3571fd5d",
   "metadata": {},
   "source": [
    ">> Example 3: Error when trying to squeeze a non-singleton dimension"
   ]
  },
  {
   "cell_type": "code",
   "execution_count": 28,
   "id": "85ee506d",
   "metadata": {},
   "outputs": [
    {
     "name": "stdout",
     "output_type": "stream",
     "text": [
      "Input array:  [[[0 1 2]\n",
      "  [3 4 5]\n",
      "  [6 7 8]]]\n"
     ]
    }
   ],
   "source": [
    "in_arr = np.arange(9).reshape(1, 3, 3)\n",
    "print(\"Input array: \", in_arr)  "
   ]
  },
  {
   "cell_type": "code",
   "execution_count": 30,
   "id": "2dc9e166",
   "metadata": {},
   "outputs": [
    {
     "name": "stdout",
     "output_type": "stream",
     "text": [
      "Error:  cannot select an axis to squeeze out which has size not equal to one\n"
     ]
    }
   ],
   "source": [
    "\n",
    "# Trying to squeeze the axis that doesn't have size 1\n",
    "try:\n",
    "    out_arr = np.squeeze(in_arr, axis=1)  \n",
    "except ValueError as e:\n",
    "    print(\"Error: \", e)\n",
    "\n",
    "# Explanation: The input array has a shape of (1, 3, 3). The attempt to squeeze axis = 1, \n",
    "# which corresponds to the second dimension with size 3, \n",
    "# results in a ValueError, as the dimension is not of size 1."
   ]
  },
  {
   "cell_type": "markdown",
   "id": "6c7f98ef",
   "metadata": {},
   "source": [
    "<p style=\"font-family:Verdana; font-size: 22px; color: orange\"> 7. Find the number of occurrences of a sequence in a NumPy array</p>"
   ]
  },
  {
   "cell_type": "code",
   "execution_count": 34,
   "id": "2c34d441",
   "metadata": {},
   "outputs": [
    {
     "name": "stdout",
     "output_type": "stream",
     "text": [
      "4\n"
     ]
    }
   ],
   "source": [
    "# create numpy array\n",
    "arr = np.array([[2, 8, 9, 4], \n",
    "                   [9, 4, 9, 4],\n",
    "                   [4, 5, 9, 7],\n",
    "                   [2, 9, 4, 3]])\n",
    "\n",
    "# Counting sequence\n",
    "output = repr(arr).count(\"9, 4\")\n",
    "\n",
    "# view output\n",
    "print(output)"
   ]
  },
  {
   "cell_type": "code",
   "execution_count": null,
   "id": "6049aeff",
   "metadata": {},
   "outputs": [],
   "source": []
  },
  {
   "cell_type": "markdown",
   "id": "4d4d148a",
   "metadata": {},
   "source": [
    "<p style=\"font-family:Verdana; font-size: 22px; color: orange\"> 8. Find the most frequent value in a NumPy array</p>"
   ]
  },
  {
   "cell_type": "markdown",
   "id": "42633f1c",
   "metadata": {},
   "source": [
    "> Example 1: Apply bincount() method"
   ]
  },
  {
   "cell_type": "code",
   "execution_count": 35,
   "id": "ac7d900b",
   "metadata": {},
   "outputs": [
    {
     "name": "stdout",
     "output_type": "stream",
     "text": [
      "Original array:\n",
      "[1 2 3 4 5 1 2 1 1 1]\n",
      "Most frequent value in the above array:\n",
      "1\n"
     ]
    }
   ],
   "source": [
    "# create array\n",
    "x = np.array([1,2,3,4,5,1,2,1,1,1])\n",
    "print(\"Original array:\")\n",
    "print(x)\n",
    "\n",
    "print(\"Most frequent value in the above array:\")\n",
    "print(np.bincount(x).argmax())\n"
   ]
  },
  {
   "cell_type": "markdown",
   "id": "6b54e621",
   "metadata": {},
   "source": [
    "> Example 2: If the array has more than one element having maximum frequency"
   ]
  },
  {
   "cell_type": "code",
   "execution_count": null,
   "id": "1e1a9ffa",
   "metadata": {},
   "outputs": [],
   "source": []
  },
  {
   "cell_type": "code",
   "execution_count": 37,
   "id": "adc99b39",
   "metadata": {},
   "outputs": [
    {
     "name": "stdout",
     "output_type": "stream",
     "text": [
      "Original array:\n",
      "[1 1 1 2 3 4 2 4 3 3]\n",
      "Most frequent value in above array\n",
      "1 3 "
     ]
    }
   ],
   "source": [
    "x = np.array([1, 1, 1, 2, 3, 4, 2, 4, 3, 3, ])\n",
    "print(\"Original array:\")\n",
    "print(x)\n",
    "\n",
    "print(\"Most frequent value in above array\")\n",
    "y = np.bincount(x)\n",
    "maximum = max(y)\n",
    "for i in range(len(y)):\n",
    "    if y[i] == maximum:\n",
    "        print(i, end=\" \")"
   ]
  },
  {
   "cell_type": "code",
   "execution_count": null,
   "id": "eab853de",
   "metadata": {},
   "outputs": [],
   "source": []
  },
  {
   "cell_type": "markdown",
   "id": "b30106b8",
   "metadata": {},
   "source": [
    "<p style=\"font-family:Verdana; font-size: 22px; color: orange\"> 9. Combining a one and a two-dimensional NumPy Array</p>"
   ]
  },
  {
   "cell_type": "markdown",
   "id": "b1c5e66c",
   "metadata": {},
   "source": [
    "> Syntax: numpy.nditer(op, flags=None, op_flags=None, op_dtypes=None, order='K', casting='safe', op_axes=None, itershape=None, buffersize=0)"
   ]
  },
  {
   "cell_type": "code",
   "execution_count": 38,
   "id": "0dd87af2",
   "metadata": {},
   "outputs": [
    {
     "name": "stdout",
     "output_type": "stream",
     "text": [
      "One dimensional array:\n",
      "[0 1 2 3 4]\n",
      "\n",
      "Two dimensional array:\n",
      "[[0 1 2 3 4]\n",
      " [5 6 7 8 9]]\n"
     ]
    }
   ],
   "source": [
    "num_1d = np.arange(5)\n",
    "print(\"One dimensional array:\")\n",
    "print(num_1d)\n",
    "\n",
    "num_2d = np.arange(10).reshape(2,5)\n",
    "print(\"\\nTwo dimensional array:\")\n",
    "print(num_2d)\n"
   ]
  },
  {
   "cell_type": "code",
   "execution_count": 39,
   "id": "5224d4a0",
   "metadata": {},
   "outputs": [
    {
     "name": "stdout",
     "output_type": "stream",
     "text": [
      "0:0\n",
      "1:1\n",
      "2:2\n",
      "3:3\n",
      "4:4\n",
      "0:5\n",
      "1:6\n",
      "2:7\n",
      "3:8\n",
      "4:9\n"
     ]
    }
   ],
   "source": [
    "# Combine 1-D and 2-D arrays and display \n",
    "# their elements using numpy.nditer() \n",
    "for a, b in np.nditer([num_1d, num_2d]):\n",
    "    print(\"%d:%d\" % (a, b),)"
   ]
  },
  {
   "cell_type": "code",
   "execution_count": 40,
   "id": "a74dfe46",
   "metadata": {},
   "outputs": [
    {
     "name": "stdout",
     "output_type": "stream",
     "text": [
      "One dimensional array:\n",
      "[0 1 2 3 4 5 6]\n",
      "\n",
      "Two dimensional array:\n",
      "[[ 0  1  2  3  4  5  6]\n",
      " [ 7  8  9 10 11 12 13]\n",
      " [14 15 16 17 18 19 20]]\n"
     ]
    }
   ],
   "source": [
    "num_1d = np.arange(7)\n",
    "print(\"One dimensional array:\")\n",
    "print(num_1d)\n",
    "\n",
    "num_2d = np.arange(21).reshape(3,7)\n",
    "print(\"\\nTwo dimensional array:\")\n",
    "print(num_2d)"
   ]
  },
  {
   "cell_type": "code",
   "execution_count": 41,
   "id": "d21b4723",
   "metadata": {},
   "outputs": [
    {
     "name": "stdout",
     "output_type": "stream",
     "text": [
      "0:0\n",
      "1:1\n",
      "2:2\n",
      "3:3\n",
      "4:4\n",
      "5:5\n",
      "6:6\n",
      "0:7\n",
      "1:8\n",
      "2:9\n",
      "3:10\n",
      "4:11\n",
      "5:12\n",
      "6:13\n",
      "0:14\n",
      "1:15\n",
      "2:16\n",
      "3:17\n",
      "4:18\n",
      "5:19\n",
      "6:20\n"
     ]
    }
   ],
   "source": [
    "# Combine 1-D and 2-D arrays and display \n",
    "# their elements using numpy.nditer() \n",
    "for a, b in np.nditer([num_1d, num_2d]):\n",
    "    print(\"%d:%d\" % (a, b),)"
   ]
  },
  {
   "cell_type": "code",
   "execution_count": 42,
   "id": "f7819ca1",
   "metadata": {},
   "outputs": [
    {
     "name": "stdout",
     "output_type": "stream",
     "text": [
      "One dimensional array:\n",
      "[0 1]\n",
      "\n",
      "Two dimensional array:\n",
      "[[ 0  1]\n",
      " [ 2  3]\n",
      " [ 4  5]\n",
      " [ 6  7]\n",
      " [ 8  9]\n",
      " [10 11]]\n"
     ]
    }
   ],
   "source": [
    "num_1d = np.arange(2)\n",
    "print(\"One dimensional array:\")\n",
    "print(num_1d)\n",
    "\n",
    "num_2d = np.arange(12).reshape(6,2)\n",
    "print(\"\\nTwo dimensional array:\")\n",
    "print(num_2d)\n"
   ]
  },
  {
   "cell_type": "code",
   "execution_count": 43,
   "id": "61aec2bc",
   "metadata": {},
   "outputs": [
    {
     "name": "stdout",
     "output_type": "stream",
     "text": [
      "0:0\n",
      "1:1\n",
      "0:2\n",
      "1:3\n",
      "0:4\n",
      "1:5\n",
      "0:6\n",
      "1:7\n",
      "0:8\n",
      "1:9\n",
      "0:10\n",
      "1:11\n"
     ]
    }
   ],
   "source": [
    "# Combine 1-D and 2-D arrays and display\n",
    "# their elements using numpy.nditer() \n",
    "for a, b in np.nditer([num_1d, num_2d]):\n",
    "    print(\"%d:%d\" % (a, b),)\n"
   ]
  },
  {
   "cell_type": "markdown",
   "id": "e63e46b9",
   "metadata": {},
   "source": [
    "<p style=\"font-family:Verdana; font-size: 22px; color: orange\"> 10. How to build an array of all combinations of two NumPy arrays?</p>\n"
   ]
  },
  {
   "cell_type": "markdown",
   "id": "26152c57",
   "metadata": {},
   "source": [
    "> numpy.meshgrid(*xi, copy=True, sparse=False, indexing='xy')"
   ]
  },
  {
   "cell_type": "markdown",
   "id": "e0832536",
   "metadata": {},
   "source": [
    ">> Example 1: Computing combinations of elements of Two NumPy arrays"
   ]
  },
  {
   "cell_type": "code",
   "execution_count": 44,
   "id": "359d6910",
   "metadata": {},
   "outputs": [
    {
     "name": "stdout",
     "output_type": "stream",
     "text": [
      "Array-1\n",
      "[1 2]\n",
      "\n",
      "Array-2\n",
      "[4 6]\n"
     ]
    }
   ],
   "source": [
    "a = np.array([1, 2])\n",
    "b = np.array([4, 6])\n",
    "\n",
    "print(\"Array-1\")\n",
    "print(a)\n",
    "\n",
    "print(\"\\nArray-2\")\n",
    "print(b)"
   ]
  },
  {
   "cell_type": "code",
   "execution_count": 45,
   "id": "6640859b",
   "metadata": {},
   "outputs": [
    {
     "name": "stdout",
     "output_type": "stream",
     "text": [
      "\n",
      "Combine array:\n",
      "[[1 4]\n",
      " [1 6]\n",
      " [2 4]\n",
      " [2 6]]\n"
     ]
    }
   ],
   "source": [
    "res = np.array(np.meshgrid(a, b)).T.reshape(-1, 2)\n",
    "\n",
    "print(\"\\nCombine array:\")\n",
    "print(res)"
   ]
  },
  {
   "cell_type": "markdown",
   "id": "5f497a0b",
   "metadata": {},
   "source": [
    ">>> Example 2: Computing combinations of elements of Three NumPy arrays"
   ]
  },
  {
   "cell_type": "code",
   "execution_count": 46,
   "id": "2760a611",
   "metadata": {},
   "outputs": [
    {
     "name": "stdout",
     "output_type": "stream",
     "text": [
      "Array-1\n",
      "[1 2 3]\n",
      "Array-2\n",
      "[4 6 4]\n",
      "Array-3\n",
      "[3 6]\n"
     ]
    }
   ],
   "source": [
    "a = np.array([1, 2, 3])\n",
    "b = np.array([4, 6, 4])\n",
    "c = np.array([3, 6])\n",
    "\n",
    "print(\"Array-1\")\n",
    "print(a)\n",
    "\n",
    "print(\"Array-2\")\n",
    "print(b)\n",
    "\n",
    "print(\"Array-3\")\n",
    "print(c)"
   ]
  },
  {
   "cell_type": "code",
   "execution_count": 47,
   "id": "d9d9bd98",
   "metadata": {},
   "outputs": [
    {
     "name": "stdout",
     "output_type": "stream",
     "text": [
      "\n",
      "Combine array:\n",
      "[[1 4 3]\n",
      " [1 6 3]\n",
      " [1 4 3]\n",
      " [2 4 3]\n",
      " [2 6 3]\n",
      " [2 4 3]\n",
      " [3 4 3]\n",
      " [3 6 3]\n",
      " [3 4 3]\n",
      " [1 4 6]\n",
      " [1 6 6]\n",
      " [1 4 6]\n",
      " [2 4 6]\n",
      " [2 6 6]\n",
      " [2 4 6]\n",
      " [3 4 6]\n",
      " [3 6 6]\n",
      " [3 4 6]]\n"
     ]
    }
   ],
   "source": [
    "res = np.array(\n",
    "  np.meshgrid(a, b, c)).T.reshape(-1, 3)\n",
    "\n",
    "print(\"\\nCombine array:\")\n",
    "print(res)"
   ]
  },
  {
   "cell_type": "markdown",
   "id": "5dc40e8b",
   "metadata": {},
   "source": [
    "> Example 3: Computing combinations of elements of Four NumPy arrays"
   ]
  },
  {
   "cell_type": "code",
   "execution_count": 48,
   "id": "e8a706de",
   "metadata": {},
   "outputs": [
    {
     "name": "stdout",
     "output_type": "stream",
     "text": [
      "Array-1\n",
      "[50 21]\n",
      "Array-2\n",
      "[4 4]\n",
      "Array-3\n",
      "[ 1 10]\n",
      "Array-4\n",
      "[ 7 14]\n"
     ]
    }
   ],
   "source": [
    "a = np.array([50, 21])\n",
    "b = np.array([4, 4])\n",
    "c = np.array([1, 10])\n",
    "d = np.array([7, 14])\n",
    "\n",
    "\n",
    "print(\"Array-1\")\n",
    "print(a)\n",
    "\n",
    "print(\"Array-2\")\n",
    "print(b)\n",
    "\n",
    "print(\"Array-3\")\n",
    "print(c)\n",
    "\n",
    "print(\"Array-4\")\n",
    "print(d)\n"
   ]
  },
  {
   "cell_type": "code",
   "execution_count": 49,
   "id": "62292a75",
   "metadata": {},
   "outputs": [
    {
     "name": "stdout",
     "output_type": "stream",
     "text": [
      "\n",
      "Combine array:\n",
      "[[50  4  1  7]\n",
      " [50  4  1  7]\n",
      " [21  4  1  7]\n",
      " [21  4  1  7]\n",
      " [50  4 10  7]\n",
      " [50  4 10  7]\n",
      " [21  4 10  7]\n",
      " [21  4 10  7]\n",
      " [50  4  1 14]\n",
      " [50  4  1 14]\n",
      " [21  4  1 14]\n",
      " [21  4  1 14]\n",
      " [50  4 10 14]\n",
      " [50  4 10 14]\n",
      " [21  4 10 14]\n",
      " [21  4 10 14]]\n"
     ]
    }
   ],
   "source": [
    "res = np.array(np.meshgrid(a, b, c, d)).T.reshape(-1, 4)\n",
    "\n",
    "print(\"\\nCombine array:\")\n",
    "print(res)"
   ]
  }
 ],
 "metadata": {
  "kernelspec": {
   "display_name": "base",
   "language": "python",
   "name": "python3"
  },
  "language_info": {
   "codemirror_mode": {
    "name": "ipython",
    "version": 3
   },
   "file_extension": ".py",
   "mimetype": "text/x-python",
   "name": "python",
   "nbconvert_exporter": "python",
   "pygments_lexer": "ipython3",
   "version": "3.12.7"
  }
 },
 "nbformat": 4,
 "nbformat_minor": 5
}
