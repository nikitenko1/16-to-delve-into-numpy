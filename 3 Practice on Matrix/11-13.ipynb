{
 "cells": [
  {
   "cell_type": "markdown",
   "id": "a003dc77",
   "metadata": {},
   "source": [
    "<p style=\"font-family:Verdana; font-size: 22px; color: cyan\"> Questions on NumPy Matrix</p>"
   ]
  },
  {
   "cell_type": "code",
   "execution_count": 2,
   "id": "086b0559",
   "metadata": {},
   "outputs": [],
   "source": [
    "import numpy as np "
   ]
  },
  {
   "cell_type": "markdown",
   "id": "610e60c4",
   "metadata": {},
   "source": [
    "\n",
    "<p style=\"font-family:Verdana; font-size: 22px; color: orange\"> 11. How to Calculate the determinant of a matrix using NumPy?</p>"
   ]
  },
  {
   "cell_type": "markdown",
   "id": "36ef26bc",
   "metadata": {},
   "source": [
    "> Using numpy.linalg.slotdet()"
   ]
  },
  {
   "cell_type": "code",
   "execution_count": 3,
   "id": "114e898e",
   "metadata": {},
   "outputs": [
    {
     "name": "stdout",
     "output_type": "stream",
     "text": [
      "1330.0000000000002\n"
     ]
    }
   ],
   "source": [
    "A = np.array([[50, 29], [30, 44]])\n",
    "sign, logdet = np.linalg.slogdet(A)\n",
    "res = sign * np.exp(logdet)\n",
    "\n",
    "print(res)"
   ]
  },
  {
   "cell_type": "code",
   "execution_count": null,
   "id": "971a3308",
   "metadata": {},
   "outputs": [],
   "source": [
    "# Explanation: np.linalg.slogdet(A) returns sign (the determinant's sign) and logdet (the log of its absolute value). \n",
    "# \n",
    "# The determinant is computed as sign * np.exp(logdet), ensuring numerical stability."
   ]
  },
  {
   "cell_type": "markdown",
   "id": "805ef969",
   "metadata": {},
   "source": [
    "<p style=\"font-family:Verdana; font-size: 22px; color: orange\"> 12. How to inverse a matrix using NumPy</p>"
   ]
  },
  {
   "cell_type": "markdown",
   "id": "975067f6",
   "metadata": {},
   "source": [
    "> Syntax: numpy.linalg.inv(a)"
   ]
  },
  {
   "cell_type": "code",
   "execution_count": 4,
   "id": "bf48aee8",
   "metadata": {},
   "outputs": [
    {
     "name": "stdout",
     "output_type": "stream",
     "text": [
      "[[ 0.17647059 -0.00326797 -0.02287582]\n",
      " [ 0.05882353 -0.13071895  0.08496732]\n",
      " [-0.11764706  0.1503268   0.05228758]]\n"
     ]
    }
   ],
   "source": [
    "# Taking a 3 * 3 matrix\n",
    "A = np.array([[6, 1, 1],\n",
    "              [4, -2, 5],\n",
    "              [2, 8, 7]])\n",
    "\n",
    "# Calculating the inverse of the matrix\n",
    "print(np.linalg.inv(A))"
   ]
  },
  {
   "cell_type": "markdown",
   "id": "2f82f724",
   "metadata": {},
   "source": [
    "<p style=\"font-family:Verdana; font-size: 22px; color: orange\"> 13. How to count the frequency of unique values in NumPy array?</p>"
   ]
  },
  {
   "cell_type": "markdown",
   "id": "2f762329",
   "metadata": {},
   "source": [
    "* Using the np.unique() Function\n",
    "> Using NumPy Unique Frequency\n",
    ">> Using NumPy in Transpose Form\n",
    ">>> Using numpy.bincount()\n",
    ">>>> Using the collections.Counter() Function"
   ]
  },
  {
   "cell_type": "code",
   "execution_count": 5,
   "id": "f4737deb",
   "metadata": {},
   "outputs": [
    {
     "name": "stdout",
     "output_type": "stream",
     "text": [
      "Unique Values: [ 5  8  9 10 20]\n",
      "Frequency Values: [1 2 1 2 2]\n"
     ]
    }
   ],
   "source": [
    "ini_array = np.array([10, 20, 5,\n",
    "                      10, 8, 20,\n",
    "                      8, 9])\n",
    "\n",
    "# Get a tuple of unique values \n",
    "# and their frequency in\n",
    "# numpy array\n",
    "unique, frequency = np.unique(ini_array, \n",
    "                              return_counts = True)\n",
    "# print unique values array\n",
    "print(\"Unique Values:\", \n",
    "      unique)\n",
    "\n",
    "# print frequency array\n",
    "print(\"Frequency Values:\",\n",
    "      frequency)"
   ]
  },
  {
   "cell_type": "code",
   "execution_count": 6,
   "id": "007e7f70",
   "metadata": {},
   "outputs": [
    {
     "name": "stdout",
     "output_type": "stream",
     "text": [
      "The values and their frequency are:\n",
      " [[ 5  8  9 10 20]\n",
      " [ 1  2  1  2  2]]\n"
     ]
    }
   ],
   "source": [
    "# Get a tuple of unique values \n",
    "# and their frequency \n",
    "# in numpy array\n",
    "unique, frequency = np.unique(ini_array,\n",
    "                              return_counts = True) \n",
    "\n",
    "# convert both into one numpy array\n",
    "count = np.asarray((unique, frequency ))\n",
    "\n",
    "print(\"The values and their frequency are:\\n\",\n",
    "     count)"
   ]
  },
  {
   "cell_type": "code",
   "execution_count": 7,
   "id": "eda0028f",
   "metadata": {},
   "outputs": [
    {
     "name": "stdout",
     "output_type": "stream",
     "text": [
      "The values and their frequency are in transpose form:\n",
      " [[ 5  1]\n",
      " [ 8  2]\n",
      " [ 9  1]\n",
      " [10  2]\n",
      " [20  2]]\n"
     ]
    }
   ],
   "source": [
    "# create a 1d-array\n",
    "ini_array = np.array([10, 20, 5,\n",
    "                      10, 8, 20,\n",
    "                      8, 9])\n",
    "\n",
    "# Get a tuple of unique values \n",
    "# and their frequency in\n",
    "# numpy array\n",
    "unique, frequency = np.unique(ini_array, \n",
    "                              return_counts = True) \n",
    "\n",
    "# convert both into one numpy array \n",
    "# and then transpose it\n",
    "count = np.asarray((unique,frequency )).T\n",
    "\n",
    "print(\"The values and their frequency are in transpose form:\\n\",\n",
    "     count)"
   ]
  },
  {
   "cell_type": "code",
   "execution_count": 8,
   "id": "2b9f9fcf",
   "metadata": {},
   "outputs": [
    {
     "name": "stdout",
     "output_type": "stream",
     "text": [
      "\n",
      "Method 2:\n",
      "Unique Values: [ 5  8  9 10 20]\n",
      "Counts: [1 2 1 2 2]\n"
     ]
    }
   ],
   "source": [
    "# Create a 1D array\n",
    "arr = np.array([10, 20, 5, 10, 8, 20, 8, 9])\n",
    "\n",
    "# Get unique values and their counts using bincount\n",
    "unique_values = np.unique(arr)\n",
    "counts = np.bincount(arr)\n",
    "\n",
    "# Display the results\n",
    "print(\"\\nMethod 2:\")\n",
    "print(\"Unique Values:\", unique_values)\n",
    "print(\"Counts:\", counts[unique_values])"
   ]
  },
  {
   "cell_type": "code",
   "execution_count": 10,
   "id": "eb1a8274",
   "metadata": {},
   "outputs": [
    {
     "name": "stdout",
     "output_type": "stream",
     "text": [
      "Unique Values: [10, 20, 5, 8, 9]\n",
      "Counts: [2, 2, 1, 2, 1]\n"
     ]
    }
   ],
   "source": [
    "from collections import Counter\n",
    "\n",
    "# Create a list\n",
    "my_list = [10, 20, 5, 10, 8, 20, 8, 9]\n",
    "\n",
    "# Use Counter to count occurrences\n",
    "counts = Counter(my_list)\n",
    "\n",
    "# Display the results\n",
    "print(\"Unique Values:\", list(counts.keys()))\n",
    "print(\"Counts:\", list(counts.values()))"
   ]
  },
  {
   "cell_type": "code",
   "execution_count": null,
   "id": "d5fc0bd8",
   "metadata": {},
   "outputs": [],
   "source": []
  }
 ],
 "metadata": {
  "kernelspec": {
   "display_name": "base",
   "language": "python",
   "name": "python3"
  },
  "language_info": {
   "codemirror_mode": {
    "name": "ipython",
    "version": 3
   },
   "file_extension": ".py",
   "mimetype": "text/x-python",
   "name": "python",
   "nbconvert_exporter": "python",
   "pygments_lexer": "ipython3",
   "version": "3.12.7"
  }
 },
 "nbformat": 4,
 "nbformat_minor": 5
}
