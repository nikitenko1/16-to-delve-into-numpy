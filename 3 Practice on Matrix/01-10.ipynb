{
 "cells": [
  {
   "cell_type": "markdown",
   "id": "a003dc77",
   "metadata": {},
   "source": [
    "<p style=\"font-family:Verdana; font-size: 22px; color: cyan\"> Questions on NumPy Matrix</p>"
   ]
  },
  {
   "cell_type": "code",
   "execution_count": 1,
   "id": "086b0559",
   "metadata": {},
   "outputs": [],
   "source": [
    "import numpy as np "
   ]
  },
  {
   "cell_type": "markdown",
   "id": "610e60c4",
   "metadata": {},
   "source": [
    "\n",
    "<p style=\"font-family:Verdana; font-size: 22px; color: orange\"> 1. Get the maximum value from given matrix</p>"
   ]
  },
  {
   "cell_type": "code",
   "execution_count": 2,
   "id": "c35f466e",
   "metadata": {},
   "outputs": [
    {
     "name": "stdout",
     "output_type": "stream",
     "text": [
      "64\n"
     ]
    }
   ],
   "source": [
    "# Numpy matrix.max() method, we can get the maximum value from given matrix.\n",
    "# make matrix with numpy\n",
    "gfg = np.matrix('[64, 1; 12, 3]')\n",
    "        \n",
    "# applying matrix.max() method\n",
    "geeks = gfg.max()\n",
    "  \n",
    "print(geeks)"
   ]
  },
  {
   "cell_type": "code",
   "execution_count": 3,
   "id": "3f0a978b",
   "metadata": {},
   "outputs": [
    {
     "name": "stdout",
     "output_type": "stream",
     "text": [
      "9\n"
     ]
    }
   ],
   "source": [
    "# make a matrix with numpy\n",
    "gfg2 = np.matrix('[1, 2, 3; 4, 5, 6; 7, 8, 9]')\n",
    "        \n",
    "# applying matrix.max() method\n",
    "geeks2 = gfg2.max()\n",
    "  \n",
    "print(geeks2)"
   ]
  },
  {
   "cell_type": "markdown",
   "id": "86e4f980",
   "metadata": {},
   "source": [
    "<p style=\"font-family:Verdana; font-size: 22px; color: orange\"> 2. Get the minimum value from given matrix</p>"
   ]
  },
  {
   "cell_type": "code",
   "execution_count": 4,
   "id": "12f8b47b",
   "metadata": {},
   "outputs": [
    {
     "name": "stdout",
     "output_type": "stream",
     "text": [
      "1\n"
     ]
    }
   ],
   "source": [
    "# Numpy matrix.min() method, we can get the minimum value from given matrix.\n",
    "# make matrix with numpy\n",
    "gfg = np.matrix('[64, 1; 12, 3]')\n",
    "        \n",
    "# applying matrix.min() method\n",
    "geeks = gfg.min()\n",
    "  \n",
    "print(geeks)\n"
   ]
  },
  {
   "cell_type": "code",
   "execution_count": 5,
   "id": "cff172c6",
   "metadata": {},
   "outputs": [
    {
     "name": "stdout",
     "output_type": "stream",
     "text": [
      "-9\n"
     ]
    }
   ],
   "source": [
    "# make a matrix with numpy\n",
    "gfg = np.matrix('[1, 2, 3; 4, 5, 6; 7, 8, -9]')\n",
    "        \n",
    "# applying matrix.min() method\n",
    "geeks = gfg.min()\n",
    "  \n",
    "print(geeks)"
   ]
  },
  {
   "cell_type": "markdown",
   "id": "a4bd84eb",
   "metadata": {},
   "source": [
    "<p style=\"font-family:Verdana; font-size: 22px; color: orange\"> 3. Find the number of rows and columns of a given matrix using NumPy</p>"
   ]
  },
  {
   "cell_type": "markdown",
   "id": "14e0ba66",
   "metadata": {},
   "source": [
    "> We can find matrix dimension with three ways:\n",
    "\n",
    ">> Using shape Attribute\n",
    ">>> Using Indexing\n",
    ">>>> Using numpy.reshape()"
   ]
  },
  {
   "cell_type": "code",
   "execution_count": 6,
   "id": "bf4d563f",
   "metadata": {},
   "outputs": [
    {
     "name": "stdout",
     "output_type": "stream",
     "text": [
      "Rows: 2\n",
      "Columns: 3\n"
     ]
    }
   ],
   "source": [
    "# Way 1: Using .shape Attribute\n",
    "matrix = np.array([[9, 9, 9], [8, 8, 8]])\n",
    "\n",
    "dimensions = matrix.shape\n",
    "rows, columns = dimensions\n",
    "\n",
    "print(\"Rows:\", rows)\n",
    "print(\"Columns:\", columns)"
   ]
  },
  {
   "cell_type": "code",
   "execution_count": 7,
   "id": "fc44ca65",
   "metadata": {},
   "outputs": [
    {
     "name": "stdout",
     "output_type": "stream",
     "text": [
      "Rows: 2\n",
      "Columns: 3\n"
     ]
    }
   ],
   "source": [
    "# Way 2: Using Indexing\n",
    "matrix = np.array([[4, 3, 2], [8, 7, 6]])\n",
    "rows = matrix.shape[0]\n",
    "columns = matrix.shape[1]\n",
    "\n",
    "print(\"Rows:\", rows)\n",
    "print(\"Columns:\", columns)"
   ]
  },
  {
   "cell_type": "code",
   "execution_count": 8,
   "id": "638cb951",
   "metadata": {},
   "outputs": [
    {
     "name": "stdout",
     "output_type": "stream",
     "text": [
      "[[1 2 3]\n",
      " [4 5 6]\n",
      " [7 8 9]]\n",
      "(3, 3)\n"
     ]
    }
   ],
   "source": [
    "# Way 3: Using numpy.reshape()\n",
    "matrix= np.arange(1,10).reshape((3, 3))\n",
    "\n",
    "print(matrix) # Original matrix\n",
    "print(matrix.shape) # Number of rows and columns of the said matrix"
   ]
  },
  {
   "cell_type": "markdown",
   "id": "382dab4c",
   "metadata": {},
   "source": [
    "<p style=\"font-family:Verdana; font-size: 22px; color: orange\"> 4. Select the elements from a given matrix</p>"
   ]
  },
  {
   "cell_type": "markdown",
   "id": "267b6798",
   "metadata": {},
   "source": [
    "> Syntax : matrix.take(index, axis)"
   ]
  },
  {
   "cell_type": "code",
   "execution_count": 9,
   "id": "565fbb0d",
   "metadata": {},
   "outputs": [
    {
     "name": "stdout",
     "output_type": "stream",
     "text": [
      "[[12]]\n"
     ]
    }
   ],
   "source": [
    "# make matrix with numpy\n",
    "gfg = np.matrix('[4, 1, 12, 3, 4, 6, 7]')\n",
    "            \n",
    "# applying matrix.take() method\n",
    "geek = gfg.take(2)\n",
    "  \n",
    "print(geek)"
   ]
  },
  {
   "cell_type": "code",
   "execution_count": null,
   "id": "b6643600",
   "metadata": {},
   "outputs": [
    {
     "name": "stdout",
     "output_type": "stream",
     "text": [
      "[[ 4 12  4]]\n"
     ]
    }
   ],
   "source": [
    "# make matrix with numpy\n",
    "gfg = np.matrix('[4, 1, 9; 12, 3, 1; 4, 5, 6]')\n",
    "            \n",
    "# applying matrix.take() method\n",
    "geek = gfg.take(0, 1)\n",
    "  \n",
    "print(geek)"
   ]
  },
  {
   "cell_type": "markdown",
   "id": "16cb05bf",
   "metadata": {},
   "source": [
    "<p style=\"font-family:Verdana; font-size: 22px; color: orange\"> 5. Find the sum of values in a matrix</p>"
   ]
  },
  {
   "cell_type": "markdown",
   "id": "74d57be1",
   "metadata": {},
   "source": [
    "> Syntax :   matrix.sum()"
   ]
  },
  {
   "cell_type": "code",
   "execution_count": 13,
   "id": "a7f1c6d1",
   "metadata": {},
   "outputs": [
    {
     "name": "stdout",
     "output_type": "stream",
     "text": [
      "20\n"
     ]
    }
   ],
   "source": [
    "# make matrix with numpy\n",
    "gfg = np.matrix('[4, 1; 12, 3]')\n",
    "           \n",
    "# applying matrix.sum() method\n",
    "geek = gfg.sum()\n",
    " \n",
    "print(geek)"
   ]
  },
  {
   "cell_type": "code",
   "execution_count": 18,
   "id": "f9b1a66b",
   "metadata": {},
   "outputs": [
    {
     "name": "stdout",
     "output_type": "stream",
     "text": [
      "[[14]\n",
      " [33]\n",
      " [15]]\n"
     ]
    }
   ],
   "source": [
    "# make matrix with numpy\n",
    "gfg = np.matrix('[4, 1, 9; 11, 11, 11; 4, 5, 6]')\n",
    "           \n",
    "# applying matrix.sum() method\n",
    "geek = gfg.sum(axis = 1)\n",
    " \n",
    "print(geek)"
   ]
  },
  {
   "cell_type": "markdown",
   "id": "af913cef",
   "metadata": {},
   "source": [
    "<p style=\"font-family:Verdana; font-size: 22px; color: orange\"> 6. Calculate the sum of the diagonal elements of a NumPy array</p>"
   ]
  },
  {
   "cell_type": "markdown",
   "id": "61859276",
   "metadata": {},
   "source": [
    "> Syntax : numpy.trace(a, offset=0, axis1=0, axis2=1, dtype=None, out=None)  "
   ]
  },
  {
   "cell_type": "code",
   "execution_count": 20,
   "id": "5fc767e8",
   "metadata": {},
   "outputs": [
    {
     "name": "stdout",
     "output_type": "stream",
     "text": [
      "Numpy Matrix is:\n",
      "[[55 25 15]\n",
      " [30 44  2]\n",
      " [11 45 77]]\n"
     ]
    }
   ],
   "source": [
    "# Example 1: For 3X3 Numpy matrix\n",
    "n_array = np.array([[55, 25, 15],\n",
    "                    [30, 44, 2],\n",
    "                    [11, 45, 77]])\n",
    "\n",
    "# Displaying the Matrix\n",
    "print(\"Numpy Matrix is:\")\n",
    "print(n_array)\n"
   ]
  },
  {
   "cell_type": "code",
   "execution_count": 21,
   "id": "dd8ca5ac",
   "metadata": {},
   "outputs": [
    {
     "name": "stdout",
     "output_type": "stream",
     "text": [
      "\n",
      "Trace of given 3X3 matrix:\n",
      "176\n"
     ]
    }
   ],
   "source": [
    "# calculating the Trace of a matrix\n",
    "trace = np.trace(n_array)\n",
    "\n",
    "\n",
    "print(\"\\nTrace of given 3X3 matrix:\")\n",
    "print(trace)"
   ]
  },
  {
   "cell_type": "code",
   "execution_count": 22,
   "id": "2b361793",
   "metadata": {},
   "outputs": [
    {
     "name": "stdout",
     "output_type": "stream",
     "text": [
      "Numpy Matrix is:\n",
      "[[ 55  25  15  41]\n",
      " [ 30  44   2  54]\n",
      " [ 11  45  77  11]\n",
      " [ 11 212   4  20]]\n"
     ]
    }
   ],
   "source": [
    "# Example 2: For 4X4 Numpy matrix\n",
    "# creating a 4X4 Numpy matrix\n",
    "n_array = np.array([[55, 25, 15, 41],\n",
    "                    [30, 44, 2, 54],\n",
    "                    [11, 45, 77, 11],\n",
    "                    [11, 212, 4, 20]])\n",
    "\n",
    "# Displaying the Matrix\n",
    "print(\"Numpy Matrix is:\")\n",
    "print(n_array)"
   ]
  },
  {
   "cell_type": "code",
   "execution_count": 23,
   "id": "772a5bae",
   "metadata": {},
   "outputs": [
    {
     "name": "stdout",
     "output_type": "stream",
     "text": [
      "\n",
      "Trace of given 4X4 matrix:\n",
      "196\n"
     ]
    }
   ],
   "source": [
    "# calculating the Trace of a matrix\n",
    "trace = np.trace(n_array)\n",
    "\n",
    "\n",
    "print(\"\\nTrace of given 4X4 matrix:\")\n",
    "print(trace)"
   ]
  },
  {
   "cell_type": "markdown",
   "id": "a992fe49",
   "metadata": {},
   "source": [
    ">> numpy.diagonal(a, offset=0, axis1=0, axis2=1)"
   ]
  },
  {
   "cell_type": "code",
   "execution_count": 24,
   "id": "87ed410c",
   "metadata": {},
   "outputs": [
    {
     "name": "stdout",
     "output_type": "stream",
     "text": [
      "Numpy Matrix is:\n",
      "[[55 25 15]\n",
      " [30 44  2]\n",
      " [11 45 77]]\n",
      "\n",
      "Diagonal elements are:\n",
      "[55 44 77]\n",
      "\n",
      "Sum of Diagonal elements is:\n",
      "176\n"
     ]
    }
   ],
   "source": [
    "# creating a 3X3 Numpy matrix\n",
    "n_array = np.array([[55, 25, 15],\n",
    "                    [30, 44, 2],\n",
    "                    [11, 45, 77]])\n",
    "\n",
    "# Displaying the Matrix\n",
    "print(\"Numpy Matrix is:\")\n",
    "print(n_array)\n",
    "\n",
    "# Finding the diagonal elements of a matrix\n",
    "diag = np.diagonal(n_array)\n",
    "\n",
    "print(\"\\nDiagonal elements are:\")\n",
    "print(diag)\n",
    "\n",
    "print(\"\\nSum of Diagonal elements is:\")\n",
    "print(sum(diag))"
   ]
  },
  {
   "cell_type": "markdown",
   "id": "cf66e359",
   "metadata": {},
   "source": [
    "<p style=\"font-family:Verdana; font-size: 22px; color: orange\"> 7. Adding and Subtracting Matrices in Python</p>"
   ]
  },
  {
   "cell_type": "code",
   "execution_count": 25,
   "id": "5b53b686",
   "metadata": {},
   "outputs": [
    {
     "name": "stdout",
     "output_type": "stream",
     "text": [
      "Printing elements of first matrix\n",
      "[[1 2]\n",
      " [3 4]]\n",
      "Printing elements of second matrix\n",
      "[[4 5]\n",
      " [6 7]]\n",
      "Addition of two matrix\n",
      "[[ 5  7]\n",
      " [ 9 11]]\n"
     ]
    }
   ],
   "source": [
    "# creating first matrix\n",
    "A = np.array([[1, 2], [3, 4]])\n",
    "\n",
    "# creating second matrix\n",
    "B = np.array([[4, 5], [6, 7]])\n",
    "\n",
    "print(\"Printing elements of first matrix\")\n",
    "print(A)\n",
    "print(\"Printing elements of second matrix\")\n",
    "print(B)\n",
    "\n",
    "# adding two matrix\n",
    "print(\"Addition of two matrix\")\n",
    "print(np.add(A, B))"
   ]
  },
  {
   "cell_type": "code",
   "execution_count": 26,
   "id": "4266e0a7",
   "metadata": {},
   "outputs": [
    {
     "name": "stdout",
     "output_type": "stream",
     "text": [
      "Printing elements of first matrix\n",
      "[[1 2]\n",
      " [3 4]]\n",
      "Printing elements of second matrix\n",
      "[[4 5]\n",
      " [6 7]]\n",
      "Subtraction of two matrix\n",
      "[[-3 -3]\n",
      " [-3 -3]]\n"
     ]
    }
   ],
   "source": [
    "\n",
    "# creating first matrix\n",
    "A = np.array([[1, 2], [3, 4]])\n",
    "\n",
    "# creating second matrix\n",
    "B = np.array([[4, 5], [6, 7]])\n",
    "\n",
    "print(\"Printing elements of first matrix\")\n",
    "print(A)\n",
    "print(\"Printing elements of second matrix\")\n",
    "print(B)\n",
    "\n",
    "# subtracting two matrix\n",
    "print(\"Subtraction of two matrix\")\n",
    "print(np.subtract(A, B))"
   ]
  },
  {
   "cell_type": "markdown",
   "id": "46e80a18",
   "metadata": {},
   "source": [
    "<p style=\"font-family:Verdana; font-size: 22px; color: orange\"> 8. Ways to add row/columns in numpy array</p>"
   ]
  },
  {
   "cell_type": "markdown",
   "id": "f4f994f6",
   "metadata": {},
   "source": [
    "> Method 1: Using np.append()"
   ]
  },
  {
   "cell_type": "code",
   "execution_count": 27,
   "id": "247ebc4b",
   "metadata": {},
   "outputs": [
    {
     "name": "stdout",
     "output_type": "stream",
     "text": [
      "initial_array :  [[ 1  2  3]\n",
      " [45  4  7]\n",
      " [ 9  6 10]]\n",
      "resultant array [[ 1  2  3  1]\n",
      " [45  4  7  2]\n",
      " [ 9  6 10  3]]\n"
     ]
    }
   ],
   "source": [
    "ini_array = np.array([[1, 2, 3], [45, 4, 7], [9, 6, 10]])\n",
    "\n",
    "# printing initial array\n",
    "print(\"initial_array : \", str(ini_array));\n",
    "\n",
    "# Array to be added as column\n",
    "column_to_be_added = np.array([[1], [2], [3]])\n",
    "\n",
    "# Adding column to array using append() method\n",
    "arr = np.append(ini_array, column_to_be_added, axis=1)\n",
    "\n",
    "# printing result\n",
    "print (\"resultant array\", str(arr))"
   ]
  },
  {
   "cell_type": "markdown",
   "id": "8f065902",
   "metadata": {},
   "source": [
    ">> Method 2: Using np.concatenate"
   ]
  },
  {
   "cell_type": "code",
   "execution_count": 28,
   "id": "2f364cfb",
   "metadata": {},
   "outputs": [
    {
     "name": "stdout",
     "output_type": "stream",
     "text": [
      "resultant array [[ 1  2  3  1]\n",
      " [45  4  7  2]\n",
      " [ 9  6 10  3]]\n"
     ]
    }
   ],
   "source": [
    "# Adding column to array using append() method\n",
    "arr = np.concatenate([ini_array, column_to_be_added], axis=1)\n",
    "\n",
    "\n",
    "# printing result\n",
    "print (\"resultant array\", str(arr))"
   ]
  },
  {
   "cell_type": "markdown",
   "id": "05c059be",
   "metadata": {},
   "source": [
    ">>> Method 3: Using np.insert()"
   ]
  },
  {
   "cell_type": "code",
   "execution_count": 29,
   "id": "00484109",
   "metadata": {},
   "outputs": [
    {
     "name": "stdout",
     "output_type": "stream",
     "text": [
      "resultant array [[ 1  2  3  1  2  3]\n",
      " [ 1  2  3 45  4  7]\n",
      " [ 1  2  3  9  6 10]]\n"
     ]
    }
   ],
   "source": [
    "# Adding column to array using append() method\n",
    "arr = np.insert(ini_array, 0, column_to_be_added, axis=1)\n",
    "\n",
    "\n",
    "# printing result\n",
    "print (\"resultant array\", str(arr))"
   ]
  },
  {
   "cell_type": "markdown",
   "id": "f1042389",
   "metadata": {},
   "source": [
    ">> Method 4: Using np.hstack()   "
   ]
  },
  {
   "cell_type": "code",
   "execution_count": 31,
   "id": "705cccc4",
   "metadata": {},
   "outputs": [
    {
     "name": "stdout",
     "output_type": "stream",
     "text": [
      "resultant array [[ 1  2  3  1]\n",
      " [45  4  7  2]\n",
      " [ 9  6 10  3]]\n"
     ]
    }
   ],
   "source": [
    "ini_array = np.array([[1, 2, 3], [45, 4, 7], [9, 6, 10]])\n",
    "\n",
    "# Array to be added as column\n",
    "column_to_be_added = np.array([1, 2, 3])\n",
    "\n",
    "# Adding column to numpy array\n",
    "result = np.hstack((ini_array, np.atleast_2d(column_to_be_added).T))\n",
    "\n",
    "# printing result\n",
    "print (\"resultant array\", str(result))"
   ]
  },
  {
   "cell_type": "markdown",
   "id": "f40a02a3",
   "metadata": {},
   "source": [
    "> Method 5: Using np.column_stack()  "
   ]
  },
  {
   "cell_type": "code",
   "execution_count": 32,
   "id": "7f3c4174",
   "metadata": {},
   "outputs": [
    {
     "name": "stdout",
     "output_type": "stream",
     "text": [
      "resultant array [[ 1  2  3  1]\n",
      " [45  4  7  2]\n",
      " [ 9  6 10  3]]\n"
     ]
    }
   ],
   "source": [
    "\n",
    "ini_array = np.array([[1, 2, 3], [45, 4, 7], [9, 6, 10]])\n",
    "\n",
    "# Array to be added as column\n",
    "column_to_be_added = np.array([1, 2, 3])\n",
    "\n",
    "# Adding column to numpy array\n",
    "result = np.column_stack((ini_array, column_to_be_added))\n",
    "\n",
    "# printing result\n",
    "print (\"resultant array\", str(result))"
   ]
  },
  {
   "cell_type": "markdown",
   "id": "e102176d",
   "metadata": {},
   "source": [
    "<p style=\"font-family:Verdana; font-size: 22px; color: orange\"> 9. Matrix Multiplication in NumPy</p>"
   ]
  },
  {
   "cell_type": "markdown",
   "id": "3ee89488",
   "metadata": {},
   "source": [
    "> using the numpy.dot() method"
   ]
  },
  {
   "cell_type": "code",
   "execution_count": 33,
   "id": "39b81b25",
   "metadata": {},
   "outputs": [
    {
     "name": "stdout",
     "output_type": "stream",
     "text": [
      "Matrix p :\n",
      "[[1, 2], [2, 3]]\n",
      "Matrix q :\n",
      "[[4, 5], [6, 7]]\n"
     ]
    }
   ],
   "source": [
    "\n",
    "# creating two matrices\n",
    "p = [[1, 2], [2, 3]]\n",
    "q = [[4, 5], [6, 7]]\n",
    "print(\"Matrix p :\")\n",
    "print(p)\n",
    "print(\"Matrix q :\")\n",
    "print(q)"
   ]
  },
  {
   "cell_type": "code",
   "execution_count": 34,
   "id": "7caff14f",
   "metadata": {},
   "outputs": [
    {
     "name": "stdout",
     "output_type": "stream",
     "text": [
      "The matrix multiplication is :\n",
      "[[16 19]\n",
      " [26 31]]\n"
     ]
    }
   ],
   "source": [
    "\n",
    "# computing product\n",
    "result = np.dot(p, q)\n",
    "\n",
    "# printing the result\n",
    "print(\"The matrix multiplication is :\")\n",
    "print(result)"
   ]
  },
  {
   "cell_type": "markdown",
   "id": "190592b8",
   "metadata": {},
   "source": [
    "<p style=\"font-family:Verdana; font-size: 22px; color: orange\"> 10. Get the eigen values of a matrix</p>"
   ]
  },
  {
   "cell_type": "markdown",
   "id": "1046d42e",
   "metadata": {},
   "source": [
    "> syntax : np.eigvals(matrix)"
   ]
  },
  {
   "cell_type": "code",
   "execution_count": 35,
   "id": "d5fc0bd8",
   "metadata": {},
   "outputs": [
    {
     "name": "stdout",
     "output_type": "stream",
     "text": [
      "[-0.37228132  5.37228132]\n"
     ]
    }
   ],
   "source": [
    "# import numpy\n",
    "from numpy import linalg as LA\n",
    "\n",
    "# using np.eigvals() method\n",
    "gfg = LA.eigvals([[1, 2], [3, 4]])\n",
    "\n",
    "print(gfg)"
   ]
  },
  {
   "cell_type": "code",
   "execution_count": 36,
   "id": "681c6100",
   "metadata": {},
   "outputs": [
    {
     "name": "stdout",
     "output_type": "stream",
     "text": [
      "[ 1.61168440e+01 -1.11684397e+00 -4.22209278e-16]\n"
     ]
    }
   ],
   "source": [
    "\n",
    "# using np.eigvals() method\n",
    "gfg = LA.eigvals([[1, 2, 3], [4, 5, 6], [7, 8, 9]])\n",
    "\n",
    "print(gfg)"
   ]
  }
 ],
 "metadata": {
  "kernelspec": {
   "display_name": "base",
   "language": "python",
   "name": "python3"
  },
  "language_info": {
   "codemirror_mode": {
    "name": "ipython",
    "version": 3
   },
   "file_extension": ".py",
   "mimetype": "text/x-python",
   "name": "python",
   "nbconvert_exporter": "python",
   "pygments_lexer": "ipython3",
   "version": "3.12.7"
  }
 },
 "nbformat": 4,
 "nbformat_minor": 5
}
