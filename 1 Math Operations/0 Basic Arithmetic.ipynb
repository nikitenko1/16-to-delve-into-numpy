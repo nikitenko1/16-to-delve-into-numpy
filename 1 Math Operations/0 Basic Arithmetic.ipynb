{
 "cells": [
  {
   "cell_type": "markdown",
   "id": "97a2393d",
   "metadata": {},
   "source": [
    "<p style=\"font-family:Verdana; font-size: 22px; color: cyan\"> NumPy - Arithmetic Operations</p>"
   ]
  },
  {
   "cell_type": "code",
   "execution_count": 1,
   "id": "5ffb5b73",
   "metadata": {},
   "outputs": [],
   "source": [
    "import numpy as np "
   ]
  },
  {
   "cell_type": "markdown",
   "id": "05b65254",
   "metadata": {},
   "source": [
    "<p style=\"font-family:Verdana; font-size: 22px; color: orange\"> 1. Addition of Arrays</p>"
   ]
  },
  {
   "cell_type": "markdown",
   "id": "5cfab031",
   "metadata": {},
   "source": [
    "> using the np.add() function."
   ]
  },
  {
   "cell_type": "code",
   "execution_count": 2,
   "id": "6dd28a40",
   "metadata": {},
   "outputs": [
    {
     "name": "stdout",
     "output_type": "stream",
     "text": [
      "[  7  77  23 130]\n"
     ]
    }
   ],
   "source": [
    "a = np.array([5, 72, 13, 100])\n",
    "b = np.array([2, 5, 10, 30])\n",
    "\n",
    "add_ans = np.add(a, b)\n",
    "print(add_ans)"
   ]
  },
  {
   "cell_type": "markdown",
   "id": "db0699fb",
   "metadata": {},
   "source": [
    "<p style=\"font-family:Verdana; font-size: 22px; color: orange\"> 2. Subtraction of Arrays</p>"
   ]
  },
  {
   "cell_type": "markdown",
   "id": "b58c05b5",
   "metadata": {},
   "source": [
    "> We can subtract two arrays element-wise using the np.subtract() function. "
   ]
  },
  {
   "cell_type": "code",
   "execution_count": 3,
   "id": "21072410",
   "metadata": {},
   "outputs": [
    {
     "name": "stdout",
     "output_type": "stream",
     "text": [
      "[ 3 67  3 70]\n"
     ]
    }
   ],
   "source": [
    "a = np.array([5, 72, 13, 100])\n",
    "b = np.array([2, 5, 10, 30])\n",
    "\n",
    "sub_ans = np.subtract(a, b)\n",
    "print(sub_ans)"
   ]
  },
  {
   "cell_type": "markdown",
   "id": "02e11415",
   "metadata": {},
   "source": [
    "<p style=\"font-family:Verdana; font-size: 22px; color: orange\"> 3. Multiplication of Arrays</p>"
   ]
  },
  {
   "cell_type": "markdown",
   "id": "aeb267ba",
   "metadata": {},
   "source": [
    "> Multiplication in NumPy can be done element-wise using the np.multiply() function."
   ]
  },
  {
   "cell_type": "code",
   "execution_count": 5,
   "id": "4b100d17",
   "metadata": {},
   "outputs": [
    {
     "name": "stdout",
     "output_type": "stream",
     "text": [
      "[  10  360  130 3000]\n"
     ]
    }
   ],
   "source": [
    "a = np.array([5, 72, 13, 100])\n",
    "b = np.array([2, 5, 10, 30])\n",
    "\n",
    "mul_ans = np.multiply(a, b)\n",
    "print(mul_ans)"
   ]
  },
  {
   "cell_type": "markdown",
   "id": "8cf376bf",
   "metadata": {},
   "source": [
    "<p style=\"font-family:Verdana; font-size: 22px; color: orange\"> 4. Division of Arrays</p>"
   ]
  },
  {
   "cell_type": "markdown",
   "id": "1115aeba",
   "metadata": {},
   "source": [
    "> that is performed element-wise using the np.divide() function. "
   ]
  },
  {
   "cell_type": "code",
   "execution_count": 6,
   "id": "c1a23584",
   "metadata": {},
   "outputs": [
    {
     "name": "stdout",
     "output_type": "stream",
     "text": [
      "[ 2.5        14.4         1.3         3.33333333]\n"
     ]
    }
   ],
   "source": [
    "a = np.array([5, 72, 13, 100])\n",
    "b = np.array([2, 5, 10, 30])\n",
    "\n",
    "div_ans = np.divide(a, b)\n",
    "print(div_ans)"
   ]
  },
  {
   "cell_type": "markdown",
   "id": "d06304fb",
   "metadata": {},
   "source": [
    "<p style=\"font-family:Verdana; font-size: 22px; color: orange\"> 5. Exponentiation (Power)</p>"
   ]
  },
  {
   "cell_type": "markdown",
   "id": "9ac58d4d",
   "metadata": {},
   "source": [
    "> In NumPy, this can be done using the np.power() function."
   ]
  },
  {
   "cell_type": "code",
   "execution_count": 7,
   "id": "9d8ee1ff",
   "metadata": {},
   "outputs": [
    {
     "name": "stdout",
     "output_type": "stream",
     "text": [
      "[        25 1934917632       2197      10000]\n"
     ]
    }
   ],
   "source": [
    "a = np.array([5, 72, 13, 100])\n",
    "b = np.array([2, 5, 3, 2])\n",
    "\n",
    "pow_ans = np.power(a, b)\n",
    "print(pow_ans)"
   ]
  },
  {
   "cell_type": "markdown",
   "id": "0c9c5a3e",
   "metadata": {},
   "source": [
    "<p style=\"font-family:Verdana; font-size: 22px; color: orange\"> 6. Modulus Operation</p>"
   ]
  },
  {
   "cell_type": "markdown",
   "id": "7d62ac96",
   "metadata": {},
   "source": [
    "> It finds the remainder when one number is divided by another. In NumPy, you can use the np.mod() function"
   ]
  },
  {
   "cell_type": "code",
   "execution_count": 8,
   "id": "10c4ce94",
   "metadata": {},
   "outputs": [
    {
     "name": "stdout",
     "output_type": "stream",
     "text": [
      "[ 1  2  3 10]\n"
     ]
    }
   ],
   "source": [
    "a = np.array([5, 72, 13, 100])\n",
    "b = np.array([2, 5, 10, 30])\n",
    "\n",
    "mod_ans = np.mod(a, b)\n",
    "print(mod_ans)"
   ]
  },
  {
   "cell_type": "code",
   "execution_count": null,
   "id": "cc2d6287",
   "metadata": {},
   "outputs": [
    {
     "name": "stdout",
     "output_type": "stream",
     "text": [
      "[ 1  2  3 10]\n"
     ]
    }
   ],
   "source": [
    "a = np.array([5, 72, 13, 100])\n",
    "b = np.array([2, 5, 10, 30])\n",
    "\n",
    "mod_ans = np.mod(a, b)\n",
    "print(mod_ans)"
   ]
  }
 ],
 "metadata": {
  "kernelspec": {
   "display_name": "base",
   "language": "python",
   "name": "python3"
  },
  "language_info": {
   "codemirror_mode": {
    "name": "ipython",
    "version": 3
   },
   "file_extension": ".py",
   "mimetype": "text/x-python",
   "name": "python",
   "nbconvert_exporter": "python",
   "pygments_lexer": "ipython3",
   "version": "3.12.7"
  }
 },
 "nbformat": 4,
 "nbformat_minor": 5
}
