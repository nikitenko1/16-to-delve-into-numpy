{
 "cells": [
  {
   "cell_type": "code",
   "execution_count": 1,
   "id": "5ffb5b73",
   "metadata": {},
   "outputs": [],
   "source": [
    "import numpy as np "
   ]
  },
  {
   "cell_type": "markdown",
   "id": "05b65254",
   "metadata": {},
   "source": [
    "<p style=\"font-family:Verdana; font-size: 22px; color: orange\"> numpy.mean() in Python</p>"
   ]
  },
  {
   "cell_type": "markdown",
   "id": "5cfab031",
   "metadata": {},
   "source": [
    "> Code #1:"
   ]
  },
  {
   "cell_type": "code",
   "execution_count": 2,
   "id": "6dd28a40",
   "metadata": {},
   "outputs": [
    {
     "name": "stdout",
     "output_type": "stream",
     "text": [
      "arr :  [20, 2, 7, 1, 34]\n",
      "mean of arr :  12.8\n"
     ]
    }
   ],
   "source": [
    "# 1D array \n",
    "arr = [20, 2, 7, 1, 34]\n",
    "\n",
    "print(\"arr : \", arr) \n",
    "print(\"mean of arr : \", np.mean(arr))"
   ]
  },
  {
   "cell_type": "markdown",
   "id": "343083ca",
   "metadata": {},
   "source": [
    "> Code #2:"
   ]
  },
  {
   "cell_type": "code",
   "execution_count": 4,
   "id": "908aaf47",
   "metadata": {},
   "outputs": [
    {
     "name": "stdout",
     "output_type": "stream",
     "text": [
      "\n",
      "mean of arr, axis = None :  18.6\n"
     ]
    }
   ],
   "source": [
    "# 2D array \n",
    "arr = [[14, 17, 12, 33, 44],  \n",
    "       [15, 6, 27, 8, 19], \n",
    "       [23, 2, 54, 1, 4, ]] \n",
    "  \n",
    "# mean of the flattened array \n",
    "print(\"\\nmean of arr, axis = None : \", np.mean(arr))   "
   ]
  },
  {
   "cell_type": "code",
   "execution_count": 5,
   "id": "53ee2259",
   "metadata": {},
   "outputs": [
    {
     "name": "stdout",
     "output_type": "stream",
     "text": [
      "\n",
      "mean of arr, axis = 0 :  [17.33333333  8.33333333 31.         14.         22.33333333]\n"
     ]
    }
   ],
   "source": [
    "# mean along the axis = 0 \n",
    "print(\"\\nmean of arr, axis = 0 : \", np.mean(arr, axis = 0))  "
   ]
  },
  {
   "cell_type": "code",
   "execution_count": 6,
   "id": "3e03c2dd",
   "metadata": {},
   "outputs": [
    {
     "name": "stdout",
     "output_type": "stream",
     "text": [
      "\n",
      "mean of arr, axis = 1 :  [24.  15.  16.8]\n"
     ]
    }
   ],
   "source": [
    "\n",
    "# mean along the axis = 1 \n",
    "print(\"\\nmean of arr, axis = 1 : \", np.mean(arr, axis = 1))"
   ]
  },
  {
   "cell_type": "markdown",
   "id": "1c2539f9",
   "metadata": {},
   "source": [
    ">> out  : [ndarray, optional]Different array in which we want to place the result. The array must have the same dimensions as expected output. "
   ]
  },
  {
   "cell_type": "code",
   "execution_count": 7,
   "id": "0d6aba31",
   "metadata": {},
   "outputs": [
    {
     "name": "stdout",
     "output_type": "stream",
     "text": [
      "\n",
      "out_arr :  [0 1 2]\n",
      "mean of arr, axis = 1 :  [24 15 16]\n"
     ]
    }
   ],
   "source": [
    "out_arr = np.arange(3)\n",
    "print(\"\\nout_arr : \", out_arr) \n",
    "print(\"mean of arr, axis = 1 : \", \n",
    "      np.mean(arr, axis = 1, out = out_arr))"
   ]
  }
 ],
 "metadata": {
  "kernelspec": {
   "display_name": "base",
   "language": "python",
   "name": "python3"
  },
  "language_info": {
   "codemirror_mode": {
    "name": "ipython",
    "version": 3
   },
   "file_extension": ".py",
   "mimetype": "text/x-python",
   "name": "python",
   "nbconvert_exporter": "python",
   "pygments_lexer": "ipython3",
   "version": "3.12.7"
  }
 },
 "nbformat": 4,
 "nbformat_minor": 5
}
